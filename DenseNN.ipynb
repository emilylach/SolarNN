{
 "cells": [
  {
   "cell_type": "markdown",
   "id": "dfa2950b",
   "metadata": {},
   "source": [
    "### Housekeeping"
   ]
  },
  {
   "cell_type": "code",
   "execution_count": 13,
   "id": "83a087ee",
   "metadata": {},
   "outputs": [],
   "source": [
    "import numpy as np\n",
    "import pandas as pd\n",
    "import tensorflow as tf\n",
    "from tensorflow import keras\n",
    "from Settings import columns, experiments\n",
    "import Pipeline\n",
    "import matplotlib.pyplot as plt"
   ]
  },
  {
   "cell_type": "code",
   "execution_count": 4,
   "id": "13124c0f",
   "metadata": {},
   "outputs": [
    {
     "name": "stdout",
     "output_type": "stream",
     "text": [
      "i made it to train val\n",
      "imade it to else statement\n"
     ]
    }
   ],
   "source": [
    "current_exp = experiments['all']\n",
    "\n",
    "pipeline = Pipeline.DataClean(columns, current_exp)\n",
    "pipeline.clean_data()\n",
    "pipeline.norm()\n",
    "pipeline.split_label()\n",
    "pipeline.train_val()  "
   ]
  },
  {
   "cell_type": "markdown",
   "id": "e746a7fc",
   "metadata": {},
   "source": [
    "Look into just using environmental variable instead of using the previous persistence of solar IR"
   ]
  },
  {
   "cell_type": "code",
   "execution_count": 5,
   "id": "d83f3b3c",
   "metadata": {
    "scrolled": true
   },
   "outputs": [
    {
     "data": {
      "text/plain": [
       "Index(['Global CMP22 (vent/cor) [W/m^2]', 'Tower Wet Bulb Temp [deg C]',\n",
       "       'Direct sNIP [W/m^2]', 'Azimuth Angle [degrees]',\n",
       "       'Tower Dew Point Temp [deg C]', 'Tower RH [%]', 'Total Cloud Cover [%]',\n",
       "       'Peak Wind Speed @ 6ft [m/s]', 'Avg Wind Direction @ 6ft [deg from N]',\n",
       "       'Station Pressure [mBar]', 'Precipitation (Accumulated) [mm]',\n",
       "       'Snow Depth [cm]', 'Moisture', 'Albedo (CMP11)'],\n",
       "      dtype='object')"
      ]
     },
     "execution_count": 5,
     "metadata": {},
     "output_type": "execute_result"
    }
   ],
   "source": [
    "pipeline.floatcols"
   ]
  },
  {
   "cell_type": "markdown",
   "id": "dec48500",
   "metadata": {},
   "source": [
    "# Model Creation"
   ]
  },
  {
   "cell_type": "markdown",
   "id": "852ae97d",
   "metadata": {},
   "source": [
    "#### Model Hyperparameters"
   ]
  },
  {
   "cell_type": "code",
   "execution_count": null,
   "id": "e0b96946",
   "metadata": {},
   "outputs": [],
   "source": [
    "SEED = 26\n",
    "\n",
    "HIDDENS = [3,3]\n",
    "ACTIVATIONS = ['relu'] * len(HIDDENS)\n",
    "\n",
    "\n",
    "# optional\n",
    "NUM_EPOCHS = 300\n",
    "BATCH_SIZE = 256\n",
    "VERBOSITY = 0\n",
    "LEARNING_RATE = 0.0001\n",
    "LOSS = keras.losses.MeanSquaredError()\n",
    "\n",
    "# Early stopping\n",
    "EARLY_STOPPING = keras.callbacks.EarlyStopping(monitor='val_loss',\n",
    "                                              patience=20,\n",
    "                                              mode='auto',\n",
    "                                              restor_best_weights=True)\n",
    "\n",
    "# setting sead\n",
    "try:\n",
    "    tf.random.set_seed(SEED)\n",
    "escept:\n",
    "    tf.set_random_seed(SEED)"
   ]
  },
  {
   "cell_type": "markdown",
   "id": "4a427294",
   "metadata": {},
   "source": [
    "### Skeleton\n",
    "Below is creating the \"skeleton\" of the model. It does not need any specific data, only the shape and what it will do\n",
    "\n",
    "Using the functional API method"
   ]
  },
  {
   "cell_type": "code",
   "execution_count": 43,
   "id": "ad2cc0f5",
   "metadata": {},
   "outputs": [
    {
     "name": "stdout",
     "output_type": "stream",
     "text": [
      "Model: \"SolarNN\"\n",
      "_________________________________________________________________\n",
      " Layer (type)                Output Shape              Param #   \n",
      "=================================================================\n",
      " input_9 (InputLayer)        [(None, 1680)]            0         \n",
      "                                                                 \n",
      " dense_17 (Dense)            (None, 64)                107584    \n",
      "                                                                 \n",
      " dense_18 (Dense)            (None, 64)                4160      \n",
      "                                                                 \n",
      " dense_19 (Dense)            (None, 12)                780       \n",
      "                                                                 \n",
      "=================================================================\n",
      "Total params: 112,524\n",
      "Trainable params: 112,524\n",
      "Non-trainable params: 0\n",
      "_________________________________________________________________\n"
     ]
    }
   ],
   "source": [
    "inputs = keras.Input(shape=(pipeline.xtrain[0].shape))\n",
    "\n",
    "x = keras.layers.Dense(64, activation=current_exp['activation'])(inputs)\n",
    "\n",
    "x = keras.layers.Dense(64, activation=current_exp['activation'])(x)\n",
    "\n",
    "outputs = keras.layers.Dense(12)(x)\n",
    "\n",
    "\n",
    "model = keras.Model(inputs=inputs, outputs=outputs, name='SolarNN')\n",
    "\n",
    "model.summary()"
   ]
  },
  {
   "cell_type": "code",
   "execution_count": 27,
   "id": "e2deea17",
   "metadata": {},
   "outputs": [],
   "source": [
    "# First we start with an input layer\n",
    "input_layer = keras.layers.Input(shape=(pipeline.xtrain[0].shape,)) # size per sample, equal to number of features\n",
    "\n",
    "# Dropout may be useful for hidden layers if the number of hidden nodes is large\n",
    "# Let's apply dropout to the input layer. (If Dropout(0), Dropout isn't being used)\n",
    "layers = keras.layers.Dropout(0.004)(input_layer)\n",
    "\n",
    "layers = keras.layers.Dense(100, activation='relu',\n",
    "               bias_initializer=tf.keras.initializers.RandomNormal(seed=SEED),\n",
    "               kernel_initializer=tf.keras.initializers.RandomNormal(seed=SEED))(layers)\n",
    "\n",
    "layers = keras.layers.Dropout(0)(layers)\n",
    "\n",
    "# Output layer has a softmax function to convert output to class likelihood\n",
    "output_layer = keras.layers.Dense(pipeline.ytrain[0].shape[0], activation='softmax',\n",
    "                  bias_initializer=tf.keras.initializers.RandomNormal(seed=SEED),\n",
    "                  kernel_initializer=tf.keras.initializers.RandomNormal(seed=SEED))(layers)\n",
    "\n",
    "\n",
    "\n",
    "# model.add(keras.layers.Dense(300, activation=current_exp['activation']))\n",
    "# model.add(keras.layers.Dense(100, activation=current_exp['activation']))\n",
    "# model.add(keras.layers.Dense(10, activation=current_exp['activation']))\n",
    "\n",
    "# Similarly \n",
    "# model = keras.models.Sequential([\n",
    "#     keras.layers.Flaten(input_shape=[180,17]),\n",
    "#     keras.layers.Dense(300, activation=current_exp['activation']),\n",
    "#     keras.layers.Dense(100, activation=current_exp['activation']),\n",
    "#     keras.layers.Dense(10, activation=current_exp['activation']),\n",
    "# ])\n",
    "\n",
    "model= keras.Model(input_layer, output_layer)"
   ]
  },
  {
   "cell_type": "code",
   "execution_count": 38,
   "id": "baba1e9f",
   "metadata": {},
   "outputs": [
    {
     "data": {
      "text/plain": [
       "TensorShape([None, 100])"
      ]
     },
     "execution_count": 38,
     "metadata": {},
     "output_type": "execute_result"
    }
   ],
   "source": [
    "np.shape(layers)\n"
   ]
  },
  {
   "cell_type": "markdown",
   "id": "3258afdd",
   "metadata": {},
   "source": [
    "### The shapes are incompatible because last shape output is 10 and it should be 120???\n",
    "\n",
    "Tensorflow.data\n",
    "I can batch things?? Batch train. "
   ]
  },
  {
   "cell_type": "code",
   "execution_count": 28,
   "id": "f718beed",
   "metadata": {},
   "outputs": [
    {
     "name": "stdout",
     "output_type": "stream",
     "text": [
      "Model: \"model_2\"\n",
      "_________________________________________________________________\n",
      " Layer (type)                Output Shape              Param #   \n",
      "=================================================================\n",
      " input_4 (InputLayer)        [(None, 1680)]            0         \n",
      "                                                                 \n",
      " dropout_5 (Dropout)         (None, 1680)              0         \n",
      "                                                                 \n",
      " dense_4 (Dense)             (None, 100)               168100    \n",
      "                                                                 \n",
      " dropout_6 (Dropout)         (None, 100)               0         \n",
      "                                                                 \n",
      " dense_5 (Dense)             (None, 12)                1212      \n",
      "                                                                 \n",
      "=================================================================\n",
      "Total params: 169,312\n",
      "Trainable params: 169,312\n",
      "Non-trainable params: 0\n",
      "_________________________________________________________________\n"
     ]
    }
   ],
   "source": [
    "model.summary()\n",
    "# hidden1 = model.layers[1]\n",
    "# weights,biases = hidden1.get_weights()\n",
    "# weights  # weights randomly initialized"
   ]
  },
  {
   "cell_type": "markdown",
   "id": "73711fbf",
   "metadata": {},
   "source": [
    "### Compile model\n"
   ]
  },
  {
   "cell_type": "code",
   "execution_count": 44,
   "id": "91f1bfec",
   "metadata": {},
   "outputs": [],
   "source": [
    "model.compile(loss=keras.losses.MeanSquaredError(),\n",
    "             optimizer='sgd',\n",
    "             metrics=['accuracy'])"
   ]
  },
  {
   "cell_type": "markdown",
   "id": "190b1c41",
   "metadata": {},
   "source": [
    "### Training the model"
   ]
  },
  {
   "cell_type": "code",
   "execution_count": 45,
   "id": "bb4594ea",
   "metadata": {
    "scrolled": false
   },
   "outputs": [
    {
     "name": "stdout",
     "output_type": "stream",
     "text": [
      "Epoch 1/5\n",
      "6723/6723 [==============================] - 31s 5ms/step - loss: nan - accuracy: 0.2477 - val_loss: nan - val_accuracy: 0.4168\n",
      "Epoch 2/5\n",
      "6723/6723 [==============================] - 25s 4ms/step - loss: nan - accuracy: 0.2478 - val_loss: nan - val_accuracy: 0.4168\n",
      "Epoch 3/5\n",
      "6723/6723 [==============================] - 23s 3ms/step - loss: nan - accuracy: 0.2478 - val_loss: nan - val_accuracy: 0.4168\n",
      "Epoch 4/5\n",
      "6723/6723 [==============================] - 20s 3ms/step - loss: nan - accuracy: 0.2478 - val_loss: nan - val_accuracy: 0.4168\n",
      "Epoch 5/5\n",
      "6723/6723 [==============================] - 20s 3ms/step - loss: nan - accuracy: 0.2478 - val_loss: nan - val_accuracy: 0.4168\n"
     ]
    }
   ],
   "source": [
    "history = model.fit(pipeline.xtrain, pipeline.ytrain, epochs=5, validation_data=[pipeline.xval, pipeline.yval])"
   ]
  },
  {
   "cell_type": "code",
   "execution_count": 31,
   "id": "5d3fed57",
   "metadata": {},
   "outputs": [
    {
     "data": {
      "image/png": "[encoded data removed]",
      "text/plain": [
       "<Figure size 720x288 with 2 Axes>"
      ]
     },
     "metadata": {
      "needs_background": "light"
     },
     "output_type": "display_data"
    }
   ],
   "source": [
    "# Let's plot the change in loss and accuracy\n",
    "\n",
    "fig, axs = plt.subplots(1, 2, figsize = (10,4))\n",
    "\n",
    "axs[0].plot(history.history['loss'], label='training')\n",
    "axs[0].plot(history.history['val_loss'], label='validation')\n",
    "axs[0].set_xlabel('Epoch')\n",
    "axs[0].set_ylabel('Loss')\n",
    "axs[0].legend()\n",
    "\n",
    "axs[1].plot(history.history['accuracy'], label='training')\n",
    "axs[1].plot(history.history['val_accuracy'], label='validation')\n",
    "axs[1].set_xlabel('Epoch')\n",
    "axs[1].set_ylabel('Categorical Accuracy')\n",
    "axs[1].legend();"
   ]
  },
  {
   "cell_type": "code",
   "execution_count": 32,
   "id": "fde8b55f",
   "metadata": {},
   "outputs": [
    {
     "data": {
      "text/plain": [
       "<AxesSubplot:>"
      ]
     },
     "execution_count": 32,
     "metadata": {},
     "output_type": "execute_result"
    },
    {
     "data": {
      "image/png": "[encoded data removed]",
      "text/plain": [
       "<Figure size 432x288 with 1 Axes>"
      ]
     },
     "metadata": {
      "needs_background": "light"
     },
     "output_type": "display_data"
    }
   ],
   "source": [
    "pd.DataFrame(history.history).plot()"
   ]
  },
  {
   "cell_type": "code",
   "execution_count": null,
   "id": "99983e06",
   "metadata": {},
   "outputs": [],
   "source": []
  },
  {
   "cell_type": "code",
   "execution_count": null,
   "id": "0fa88081",
   "metadata": {},
   "outputs": [],
   "source": []
  },
  {
   "cell_type": "code",
   "execution_count": null,
   "id": "056c5e2d",
   "metadata": {},
   "outputs": [],
   "source": []
  },
  {
   "cell_type": "code",
   "execution_count": null,
   "id": "3b03296e",
   "metadata": {},
   "outputs": [],
   "source": []
  },
  {
   "cell_type": "code",
   "execution_count": null,
   "id": "59e4edac",
   "metadata": {},
   "outputs": [],
   "source": []
  },
  {
   "cell_type": "code",
   "execution_count": null,
   "id": "d0df498a",
   "metadata": {},
   "outputs": [],
   "source": []
  },
  {
   "cell_type": "code",
   "execution_count": null,
   "id": "8a833adb",
   "metadata": {},
   "outputs": [],
   "source": []
  },
  {
   "cell_type": "code",
   "execution_count": null,
   "id": "90a84e4d",
   "metadata": {},
   "outputs": [],
   "source": []
  },
  {
   "cell_type": "code",
   "execution_count": null,
   "id": "80c4d531",
   "metadata": {},
   "outputs": [],
   "source": []
  },
  {
   "cell_type": "code",
   "execution_count": null,
   "id": "f9cb4c50",
   "metadata": {},
   "outputs": [],
   "source": []
  },
  {
   "cell_type": "code",
   "execution_count": null,
   "id": "5f302f08",
   "metadata": {},
   "outputs": [],
   "source": []
  },
  {
   "cell_type": "code",
   "execution_count": null,
   "id": "629d91c2",
   "metadata": {},
   "outputs": [],
   "source": []
  },
  {
   "cell_type": "code",
   "execution_count": null,
   "id": "3442aeb3",
   "metadata": {},
   "outputs": [],
   "source": []
  }
 ],
 "metadata": {
  "kernelspec": {
   "display_name": "Python 3 (ipykernel)",
   "language": "python",
   "name": "python3"
  },
  "language_info": {
   "codemirror_mode": {
    "name": "ipython",
    "version": 3
   },
   "file_extension": ".py",
   "mimetype": "text/x-python",
   "name": "python",
   "nbconvert_exporter": "python",
   "pygments_lexer": "ipython3",
   "version": "3.7.13"
  }
 },
 "nbformat": 4,
 "nbformat_minor": 5
}
