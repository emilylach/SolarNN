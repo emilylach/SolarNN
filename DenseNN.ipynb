{
 "cells": [
  {
   "cell_type": "markdown",
   "id": "8ca712ad",
   "metadata": {},
   "source": [
    "### Housekeeping"
   ]
  },
  {
   "cell_type": "code",
   "execution_count": null,
   "id": "c42035fe",
   "metadata": {},
   "outputs": [],
   "source": [
    "import numpy as np\n",
    "import pandas as pd\n",
    "import tensorflow as tf\n",
    "from tensorflow import keras\n",
    "from Settings import columns, experiments\n",
    "import Pipeline"
   ]
  },
  {
   "cell_type": "code",
   "execution_count": null,
   "id": "c110166c",
   "metadata": {
    "scrolled": true
   },
   "outputs": [],
   "source": [
    "tf.__version__\n",
    "keras.__version__"
   ]
  },
  {
   "cell_type": "code",
   "execution_count": null,
   "id": "10a6d1d0",
   "metadata": {},
   "outputs": [],
   "source": [
    "current_exp = experiments['all']\n",
    "\n",
    "pipeline = Pipeline.DataClean(columns, current_exp)\n",
    "pipeline.clean_data()\n",
    "pipeline.norm()\n",
    "pipeline.split_label()\n",
    "pipeline.train_val()  "
   ]
  },
  {
   "cell_type": "markdown",
   "id": "d95272f2",
   "metadata": {},
   "source": [
    "Look into just using environmental variable instead of using the previous persistence of solar IR"
   ]
  },
  {
   "cell_type": "code",
   "execution_count": null,
   "id": "ed29f7d8",
   "metadata": {},
   "outputs": [],
   "source": [
    "pipeline.floatcols"
   ]
  },
  {
   "cell_type": "code",
   "execution_count": null,
   "id": "d7a4e940",
   "metadata": {},
   "outputs": [],
   "source": [
    "print(type(pipeline.xval),\n",
    "pipeline.yval.shape,\n",
    "pipeline.xtrain.shape,\n",
    "pipeline.ytrain.shape)"
   ]
  },
  {
   "cell_type": "markdown",
   "id": "2f698e3d",
   "metadata": {},
   "source": [
    "### Skeleton\n",
    "Below is creating the \"skeleton\" of the model. It does not need any specific data, only the shape and what it will do"
   ]
  },
  {
   "cell_type": "code",
   "execution_count": null,
   "id": "6f47d58c",
   "metadata": {},
   "outputs": [],
   "source": [
    "pipeline.ytrain[0].shape"
   ]
  },
  {
   "cell_type": "code",
   "execution_count": null,
   "id": "ac7d2add",
   "metadata": {},
   "outputs": [],
   "source": [
    "# There are 17 columns and there needs to be at least two hours of data input which means input shape of [180, 17]\n",
    "input_layer = keras.layers.Input(shape=(pipeline.xtrain[0].shape))\n",
    "\n",
    "\n",
    "# First we start with an input layer\n",
    "# input_layer = Input(shape=Xtrain[0].shape) # size per sample, equal to number of features\n",
    "\n",
    "# Let's apply dropout to the input layer. (If Dropout(0), Dropout isn't being used)\n",
    "layers = keras.layers.Dropout(0)(input_layer)\n",
    "\n",
    "# Now let's add a few layers. We are going to do two layers with 5 nodes each.\n",
    "# Each uses the 'relu' activation function and randomizes the initial weights/biases\n",
    "# Dropout may be useful for hidden layers if the number of hidden nodes is large\n",
    "# If Dropout(0), Dropout isn't being used.\n",
    "\n",
    "SEED = 26\n",
    "\n",
    "layers = keras.layers.Dense(10, activation='relu',\n",
    "               bias_initializer=tf.keras.initializers.RandomNormal(seed=SEED),\n",
    "               kernel_initializer=tf.keras.initializers.RandomNormal(seed=SEED))(layers)\n",
    "\n",
    "layers = keras.layers.Dropout(0)(layers)\n",
    "\n",
    "# Output layer has a softmax function to convert output to class likelihood\n",
    "output_layer = keras.layers.Dense(pipeline.ytrain[0].shape[0], activation='softmax',\n",
    "                  bias_initializer=tf.keras.initializers.RandomNormal(seed=SEED),\n",
    "                  kernel_initializer=tf.keras.initializers.RandomNormal(seed=SEED))(layers)\n",
    "\n",
    "\n",
    "\n",
    "# model.add(keras.layers.Dense(300, activation=current_exp['activation']))\n",
    "# model.add(keras.layers.Dense(100, activation=current_exp['activation']))\n",
    "# model.add(keras.layers.Dense(10, activation=current_exp['activation']))\n",
    "\n",
    "# Similarly \n",
    "# model = keras.models.Sequential([\n",
    "#     keras.layers.Flaten(input_shape=[180,17]),\n",
    "#     keras.layers.Dense(300, activation=current_exp['activation']),\n",
    "#     keras.layers.Dense(100, activation=current_exp['activation']),\n",
    "#     keras.layers.Dense(10, activation=current_exp['activation']),\n",
    "# ])\n",
    "\n",
    "model= keras.Model(input_layer, output_layer)"
   ]
  },
  {
   "cell_type": "markdown",
   "id": "c071043f",
   "metadata": {},
   "source": [
    "### The shapes are incompatible because last shape output is 10 and it should be 120???\n",
    "\n",
    "Tensorflow.data\n",
    "I can batch things?? Batch train. "
   ]
  },
  {
   "cell_type": "code",
   "execution_count": null,
   "id": "96cd0e01",
   "metadata": {},
   "outputs": [],
   "source": [
    "model.summary()\n",
    "# hidden1 = model.layers[1]\n",
    "# weights,biases = hidden1.get_weights()\n",
    "# weights  # weights randomly initialized"
   ]
  },
  {
   "cell_type": "markdown",
   "id": "b942cd8c",
   "metadata": {},
   "source": [
    "### Compile model\n"
   ]
  },
  {
   "cell_type": "code",
   "execution_count": null,
   "id": "e79a1669",
   "metadata": {},
   "outputs": [],
   "source": [
    "model.compile(loss=keras.losses.MeanSquaredError(),\n",
    "             optimizer='sgd',\n",
    "             metrics=['accuracy'])"
   ]
  },
  {
   "cell_type": "markdown",
   "id": "81b0b1d4",
   "metadata": {},
   "source": [
    "### Training and Evaluating the model"
   ]
  },
  {
   "cell_type": "code",
   "execution_count": null,
   "id": "2c763446",
   "metadata": {
    "scrolled": false
   },
   "outputs": [],
   "source": [
    "history = model.fit(pipeline.xtrain, pipeline.ytrain, epochs=30, validation_data=[pipeline.xval, pipeline.yval])"
   ]
  },
  {
   "cell_type": "code",
   "execution_count": null,
   "id": "37ddc497",
   "metadata": {},
   "outputs": [],
   "source": []
  },
  {
   "cell_type": "code",
   "execution_count": null,
   "id": "66c100bd",
   "metadata": {},
   "outputs": [],
   "source": []
  },
  {
   "cell_type": "code",
   "execution_count": null,
   "id": "56c5ed50",
   "metadata": {},
   "outputs": [],
   "source": []
  },
  {
   "cell_type": "code",
   "execution_count": null,
   "id": "c6540633",
   "metadata": {},
   "outputs": [],
   "source": []
  },
  {
   "cell_type": "code",
   "execution_count": null,
   "id": "d9c46832",
   "metadata": {},
   "outputs": [],
   "source": []
  },
  {
   "cell_type": "code",
   "execution_count": null,
   "id": "45ee2181",
   "metadata": {},
   "outputs": [],
   "source": []
  },
  {
   "cell_type": "code",
   "execution_count": null,
   "id": "e207738f",
   "metadata": {},
   "outputs": [],
   "source": []
  },
  {
   "cell_type": "code",
   "execution_count": null,
   "id": "4d3f45a3",
   "metadata": {},
   "outputs": [],
   "source": []
  },
  {
   "cell_type": "code",
   "execution_count": null,
   "id": "c9ede840",
   "metadata": {},
   "outputs": [],
   "source": []
  },
  {
   "cell_type": "code",
   "execution_count": null,
   "id": "892748c7",
   "metadata": {},
   "outputs": [],
   "source": []
  },
  {
   "cell_type": "code",
   "execution_count": null,
   "id": "e71c2743",
   "metadata": {},
   "outputs": [],
   "source": []
  },
  {
   "cell_type": "code",
   "execution_count": null,
   "id": "07a2cb38",
   "metadata": {},
   "outputs": [],
   "source": []
  },
  {
   "cell_type": "code",
   "execution_count": null,
   "id": "36d87a9a",
   "metadata": {},
   "outputs": [],
   "source": []
  },
  {
   "cell_type": "code",
   "execution_count": null,
   "id": "954712c6",
   "metadata": {},
   "outputs": [],
   "source": []
  },
  {
   "cell_type": "code",
   "execution_count": null,
   "id": "bd85ae02",
   "metadata": {},
   "outputs": [],
   "source": []
  }
 ],
 "metadata": {
  "kernelspec": {
   "display_name": "Python 3 (ipykernel)",
   "language": "python",
   "name": "python3"
  },
  "language_info": {
   "codemirror_mode": {
    "name": "ipython",
    "version": 3
   },
   "file_extension": ".py",
   "mimetype": "text/x-python",
   "name": "python",
   "nbconvert_exporter": "python",
   "pygments_lexer": "ipython3",
   "version": "3.7.13"
  }
 },
 "nbformat": 4,
 "nbformat_minor": 5
}
