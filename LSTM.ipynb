{
 "cells": [
  {
   "cell_type": "markdown",
   "id": "f44a7808",
   "metadata": {},
   "source": [
    "# LSTM model"
   ]
  },
  {
   "cell_type": "markdown",
   "id": "b99a5711",
   "metadata": {},
   "source": [
    "#### Housekeeping"
   ]
  },
  {
   "cell_type": "code",
   "execution_count": 1,
   "id": "08e4552d",
   "metadata": {},
   "outputs": [],
   "source": [
    "import numpy as np\n",
    "import pandas as pd\n",
    "import tensorflow as tf\n",
    "from tensorflow import keras\n",
    "from Settings import columns, experiments\n",
    "import Pipeline\n",
    "import matplotlib.pyplot as plt"
   ]
  },
  {
   "cell_type": "code",
   "execution_count": 2,
   "id": "7024e083",
   "metadata": {},
   "outputs": [
    {
     "name": "stdout",
     "output_type": "stream",
     "text": [
      "i made it to train val\n",
      "imade it to else statement\n"
     ]
    }
   ],
   "source": [
    "pipeline = Pipeline.DataClean(columns, experiments['all'])\n",
    "pipeline.clean_data()\n",
    "pipeline.norm()\n",
    "pipeline.split_label()\n",
    "pipeline.train_val()"
   ]
  },
  {
   "cell_type": "code",
   "execution_count": 8,
   "id": "23e78105",
   "metadata": {},
   "outputs": [
    {
     "data": {
      "text/plain": [
       "(215124, 12)"
      ]
     },
     "execution_count": 8,
     "metadata": {},
     "output_type": "execute_result"
    }
   ],
   "source": [
    "pipeline.ytrain.shape"
   ]
  },
  {
   "cell_type": "code",
   "execution_count": 9,
   "id": "011de4e4",
   "metadata": {},
   "outputs": [],
   "source": [
    "def reshape(data):\n",
    "    return data.reshape(-1, 120, 14)\n",
    "\n",
    "pipeline.xtrain = reshape(pipeline.xtrain)\n",
    "# reshape(pipeline.ytrain)\n",
    "pipeline.xval = reshape(pipeline.xval)\n",
    "# reshape(pipeline.yval)\n",
    "    "
   ]
  },
  {
   "cell_type": "code",
   "execution_count": 21,
   "id": "c33aa771",
   "metadata": {},
   "outputs": [],
   "source": [
    "inputs = keras.Input(shape=(pipeline.xtrain[0].shape))\n",
    "\n",
    "lstm = keras.layers.LSTM(units=12)  # units is dimentionality of output space\n",
    "\n",
    "output = lstm(inputs)\n",
    "\n",
    "lstm = keras.layers.LSTM(12, return_sequences=True, return_state=True)\n",
    "whole_seq_output, final_memory_state, final_carry_state = lstm(inputs)\n",
    "\n",
    "model= keras.Model(inputs, output)"
   ]
  },
  {
   "cell_type": "code",
   "execution_count": 22,
   "id": "8b515268",
   "metadata": {},
   "outputs": [
    {
     "name": "stdout",
     "output_type": "stream",
     "text": [
      "Model: \"model_2\"\n",
      "_________________________________________________________________\n",
      " Layer (type)                Output Shape              Param #   \n",
      "=================================================================\n",
      " input_9 (InputLayer)        [(None, 120, 14)]         0         \n",
      "                                                                 \n",
      " lstm_12 (LSTM)              (None, 12)                1296      \n",
      "                                                                 \n",
      "=================================================================\n",
      "Total params: 1,296\n",
      "Trainable params: 1,296\n",
      "Non-trainable params: 0\n",
      "_________________________________________________________________\n"
     ]
    }
   ],
   "source": [
    "model.summary()"
   ]
  },
  {
   "cell_type": "code",
   "execution_count": 23,
   "id": "d435c055",
   "metadata": {},
   "outputs": [],
   "source": [
    "model.compile(loss=keras.losses.MeanSquaredError(),\n",
    "             optimizer='sgd',\n",
    "             metrics=['accuracy'])"
   ]
  },
  {
   "cell_type": "code",
   "execution_count": 33,
   "id": "e9e20358",
   "metadata": {},
   "outputs": [
    {
     "name": "stdout",
     "output_type": "stream",
     "text": [
      "Epoch 1/2\n",
      "6723/6723 [==============================] - 389s 58ms/step - loss: 231996.2656 - accuracy: 0.0793 - val_loss: 112487.5703 - val_accuracy: 0.0737\n",
      "Epoch 2/2\n",
      "6723/6723 [==============================] - 394s 59ms/step - loss: 231996.1562 - accuracy: 0.0797 - val_loss: 112487.5703 - val_accuracy: 0.0746\n"
     ]
    }
   ],
   "source": [
    "history = model.fit(pipeline.xtrain, pipeline.ytrain, epochs=2, validation_data=[pipeline.xval, pipeline.yval])"
   ]
  },
  {
   "cell_type": "code",
   "execution_count": 34,
   "id": "b1c39197",
   "metadata": {},
   "outputs": [
    {
     "data": {
      "image/png": "[encoded data removed]",
      "text/plain": [
       "<Figure size 720x288 with 2 Axes>"
      ]
     },
     "metadata": {
      "needs_background": "light"
     },
     "output_type": "display_data"
    }
   ],
   "source": [
    "# Let's plot the change in loss and accuracy\n",
    "fig, axs = plt.subplots(1, 2, figsize = (10,4))\n",
    "\n",
    "axs[0].plot(history.history['loss'], label='training')\n",
    "axs[0].plot(history.history['val_loss'], label='validation')\n",
    "axs[0].set_xlabel('Epoch')\n",
    "axs[0].set_ylabel('Loss')\n",
    "axs[0].legend()\n",
    "\n",
    "axs[1].plot(history.history['accuracy'], label='training')\n",
    "axs[1].plot(history.history['val_accuracy'], label='validation')\n",
    "axs[1].set_xlabel('Epoch')\n",
    "axs[1].set_ylabel('Categorical Accuracy')\n",
    "axs[1].legend();"
   ]
  },
  {
   "cell_type": "code",
   "execution_count": null,
   "id": "02c0e9f4",
   "metadata": {},
   "outputs": [],
   "source": []
  },
  {
   "cell_type": "code",
   "execution_count": null,
   "id": "95adfc94",
   "metadata": {},
   "outputs": [],
   "source": []
  },
  {
   "cell_type": "code",
   "execution_count": null,
   "id": "d22df432",
   "metadata": {},
   "outputs": [],
   "source": []
  },
  {
   "cell_type": "code",
   "execution_count": null,
   "id": "de86cf05",
   "metadata": {},
   "outputs": [],
   "source": []
  },
  {
   "cell_type": "code",
   "execution_count": null,
   "id": "773f9585",
   "metadata": {},
   "outputs": [],
   "source": []
  },
  {
   "cell_type": "code",
   "execution_count": null,
   "id": "9fcb244a",
   "metadata": {},
   "outputs": [],
   "source": []
  },
  {
   "cell_type": "code",
   "execution_count": null,
   "id": "9798bdf0",
   "metadata": {},
   "outputs": [],
   "source": []
  },
  {
   "cell_type": "code",
   "execution_count": null,
   "id": "f092b41f",
   "metadata": {},
   "outputs": [],
   "source": []
  },
  {
   "cell_type": "code",
   "execution_count": null,
   "id": "9017738e",
   "metadata": {},
   "outputs": [],
   "source": []
  }
 ],
 "metadata": {
  "kernelspec": {
   "display_name": "Python 3 (ipykernel)",
   "language": "python",
   "name": "python3"
  },
  "language_info": {
   "codemirror_mode": {
    "name": "ipython",
    "version": 3
   },
   "file_extension": ".py",
   "mimetype": "text/x-python",
   "name": "python",
   "nbconvert_exporter": "python",
   "pygments_lexer": "ipython3",
   "version": "3.7.13"
  }
 },
 "nbformat": 4,
 "nbformat_minor": 5
}
