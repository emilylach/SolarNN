{
 "cells": [
  {
   "cell_type": "code",
   "execution_count": null,
   "id": "3e2cb6a4",
   "metadata": {},
   "outputs": [],
   "source": [
    "import numpy as np\n",
    "import pandas as pd\n",
    "import tensorflow as tf\n",
    "from tensorflow import keras\n",
    "from tensorflow.keras.layers import Input, Conv2D, MaxPooling2D, UpSampling2D, \\\n",
    "Reshape, Layer, Dense, AveragePooling2D, Conv2DTranspose, Flatten\n",
    "from Settings import columns, experiments\n",
    "import Pipeline\n",
    "import matplotlib.pyplot as plt"
   ]
  },
  {
   "cell_type": "code",
   "execution_count": null,
   "id": "b15f676e",
   "metadata": {},
   "outputs": [],
   "source": [
    "pipeline = Pipeline.DataClean(columns, experiments['all'])\n",
    "pipeline.clean_data()\n",
    "pipeline.norm()\n",
    "pipeline.split_label()\n",
    "pipeline.train_val()"
   ]
  },
  {
   "cell_type": "code",
   "execution_count": null,
   "id": "62512149",
   "metadata": {},
   "outputs": [],
   "source": [
    "def reshape(data):\n",
    "    return data.reshape(-1, 120, 14)\n",
    "\n",
    "pipeline.xtrain = reshape(pipeline.xtrain)\n",
    "# reshape(pipeline.ytrain)\n",
    "pipeline.xval = reshape(pipeline.xval)\n",
    "# reshape(pipeline.yval)"
   ]
  },
  {
   "cell_type": "markdown",
   "id": "90c41add",
   "metadata": {},
   "source": [
    "Input into a CNN would need to be size (120, 14) for the 120 samples and 14 "
   ]
  }
 ],
 "metadata": {
  "kernelspec": {
   "display_name": "Python 3 (ipykernel)",
   "language": "python",
   "name": "python3"
  },
  "language_info": {
   "codemirror_mode": {
    "name": "ipython",
    "version": 3
   },
   "file_extension": ".py",
   "mimetype": "text/x-python",
   "name": "python",
   "nbconvert_exporter": "python",
   "pygments_lexer": "ipython3",
   "version": "3.7.13"
  }
 },
 "nbformat": 4,
 "nbformat_minor": 5
}
