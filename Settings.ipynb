{
 "cells": [
  {
   "cell_type": "code",
   "execution_count": null,
   "id": "fcdb08ab",
   "metadata": {},
   "outputs": [],
   "source": [
    "experiments = {\n",
    "    'data': {\n",
    "        'date':'DATE (YYYY/MM/DD)',\n",
    "        'time':'MST',\n",
    "        'label':'Global CMP22 (vent/cor) [W/m^2]'\n",
    "    }\n",
    "}"
   ]
  }
 ],
 "metadata": {
  "kernelspec": {
   "display_name": "Python 3 (ipykernel)",
   "language": "python",
   "name": "python3"
  },
  "language_info": {
   "codemirror_mode": {
    "name": "ipython",
    "version": 3
   },
   "file_extension": ".py",
   "mimetype": "text/x-python",
   "name": "python",
   "nbconvert_exporter": "python",
   "pygments_lexer": "ipython3",
   "version": "3.7.13"
  }
 },
 "nbformat": 4,
 "nbformat_minor": 5
}
