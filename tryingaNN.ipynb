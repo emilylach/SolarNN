{
 "cells": [
  {
   "cell_type": "markdown",
   "id": "e50d0706",
   "metadata": {},
   "source": [
    "### Housekeeping"
   ]
  },
  {
   "cell_type": "code",
   "execution_count": 1,
   "id": "1f642202",
   "metadata": {},
   "outputs": [],
   "source": [
    "import numpy as np\n",
    "import pandas as pd\n",
    "import tensorflow as tf\n",
    "from tensorflow import keras\n",
    "from Settings import columns, experiments\n",
    "import Pipeline"
   ]
  },
  {
   "cell_type": "code",
   "execution_count": 2,
   "id": "311b963c",
   "metadata": {
    "scrolled": true
   },
   "outputs": [
    {
     "data": {
      "text/plain": [
       "'2.8.0'"
      ]
     },
     "execution_count": 2,
     "metadata": {},
     "output_type": "execute_result"
    }
   ],
   "source": [
    "tf.__version__\n",
    "keras.__version__"
   ]
  },
  {
   "cell_type": "code",
   "execution_count": 3,
   "id": "73864ed4",
   "metadata": {},
   "outputs": [
    {
     "name": "stdout",
     "output_type": "stream",
     "text": [
      "i made it to train val\n"
     ]
    },
    {
     "ename": "KeyboardInterrupt",
     "evalue": "",
     "output_type": "error",
     "traceback": [
      "\u001b[1;31m---------------------------------------------------------------------------\u001b[0m",
      "\u001b[1;31mKeyboardInterrupt\u001b[0m                         Traceback (most recent call last)",
      "\u001b[1;32m~\\AppData\\Local\\Temp\\ipykernel_12356\\1542336530.py\u001b[0m in \u001b[0;36m<module>\u001b[1;34m\u001b[0m\n\u001b[0;32m      5\u001b[0m \u001b[0mpipeline\u001b[0m\u001b[1;33m.\u001b[0m\u001b[0mnorm\u001b[0m\u001b[1;33m(\u001b[0m\u001b[1;33m)\u001b[0m\u001b[1;33m\u001b[0m\u001b[1;33m\u001b[0m\u001b[0m\n\u001b[0;32m      6\u001b[0m \u001b[0mpipeline\u001b[0m\u001b[1;33m.\u001b[0m\u001b[0msplit_label\u001b[0m\u001b[1;33m(\u001b[0m\u001b[1;33m)\u001b[0m\u001b[1;33m\u001b[0m\u001b[1;33m\u001b[0m\u001b[0m\n\u001b[1;32m----> 7\u001b[1;33m \u001b[0mpipeline\u001b[0m\u001b[1;33m.\u001b[0m\u001b[0mtrain_val\u001b[0m\u001b[1;33m(\u001b[0m\u001b[1;33m)\u001b[0m\u001b[1;33m\u001b[0m\u001b[1;33m\u001b[0m\u001b[0m\n\u001b[0m",
      "\u001b[1;32m~\\Documents\\Courses\\Y3S2\\ML\\SolarNN\\Pipeline.py\u001b[0m in \u001b[0;36mtrain_val\u001b[1;34m(self, hours_per_sample, num_of_samples, trainsplit)\u001b[0m\n\u001b[0;32m     90\u001b[0m                 \u001b[0mk\u001b[0m \u001b[1;33m=\u001b[0m \u001b[0mrandom\u001b[0m\u001b[1;33m.\u001b[0m\u001b[0mchoice\u001b[0m\u001b[1;33m(\u001b[0m\u001b[0mself\u001b[0m\u001b[1;33m.\u001b[0m\u001b[0mdata\u001b[0m\u001b[1;33m.\u001b[0m\u001b[0mindex\u001b[0m\u001b[1;33m[\u001b[0m\u001b[1;33m:\u001b[0m\u001b[1;33m-\u001b[0m\u001b[0mnumsamples\u001b[0m\u001b[1;33m]\u001b[0m\u001b[1;33m)\u001b[0m\u001b[1;33m\u001b[0m\u001b[1;33m\u001b[0m\u001b[0m\n\u001b[0;32m     91\u001b[0m             \u001b[1;31m# initialize with random index value\u001b[0m\u001b[1;33m\u001b[0m\u001b[1;33m\u001b[0m\u001b[1;33m\u001b[0m\u001b[0m\n\u001b[1;32m---> 92\u001b[1;33m             \u001b[0mstartidx\u001b[0m\u001b[1;33m.\u001b[0m\u001b[0mappend\u001b[0m\u001b[1;33m(\u001b[0m\u001b[0mk\u001b[0m\u001b[1;33m)\u001b[0m\u001b[1;33m\u001b[0m\u001b[1;33m\u001b[0m\u001b[0m\n\u001b[0m\u001b[0;32m     93\u001b[0m             \u001b[0mendidx\u001b[0m \u001b[1;33m=\u001b[0m \u001b[0mstartidx\u001b[0m\u001b[1;33m[\u001b[0m\u001b[0mi\u001b[0m\u001b[1;33m]\u001b[0m\u001b[1;33m+\u001b[0m\u001b[0mnumsamples\u001b[0m\u001b[1;33m\u001b[0m\u001b[1;33m\u001b[0m\u001b[0m\n\u001b[0;32m     94\u001b[0m \u001b[1;33m\u001b[0m\u001b[0m\n",
      "\u001b[1;31mKeyboardInterrupt\u001b[0m: "
     ]
    }
   ],
   "source": [
    "current_exp = experiments['all']\n",
    "\n",
    "pipeline = Pipeline.DataClean(columns, current_exp)\n",
    "pipeline.clean_data()\n",
    "pipeline.norm()\n",
    "pipeline.split_label()\n",
    "pipeline.train_val()  "
   ]
  },
  {
   "cell_type": "code",
   "execution_count": null,
   "id": "57332055",
   "metadata": {},
   "outputs": [],
   "source": [
    "print(type(pipeline.xval),\n",
    "pipeline.yval.shape,\n",
    "pipeline.xtrain.shape,\n",
    "pipeline.ytrain.shape)"
   ]
  },
  {
   "cell_type": "markdown",
   "id": "ee9d89b8",
   "metadata": {},
   "source": [
    "### Skeleton\n",
    "Below is creating the \"skeleton\" of the model. It does not need any specific data, only the shape and what it will do"
   ]
  },
  {
   "cell_type": "code",
   "execution_count": null,
   "id": "d7e1de17",
   "metadata": {},
   "outputs": [],
   "source": [
    "model = keras.models.Sequential()\n",
    "# There are 17 columns and there needs to be at least two hours of data input which means input shape of [180, 17]\n",
    "model.add(keras.layers.Flatten(input_shape=[120,14]))  \n",
    "# model.add(keras.layers.Dense(300, activation=current_exp['activation']))\n",
    "# model.add(keras.layers.Dense(100, activation=current_exp['activation']))\n",
    "# model.add(keras.layers.Dense(10, activation=current_exp['activation']))\n",
    "\n",
    "# Similarly \n",
    "# model = keras.models.Sequential([\n",
    "#     keras.layers.Flaten(input_shape=[180,17]),\n",
    "#     keras.layers.Dense(300, activation=current_exp['activation']),\n",
    "#     keras.layers.Dense(100, activation=current_exp['activation']),\n",
    "#     keras.layers.Dense(10, activation=current_exp['activation']),\n",
    "# ])"
   ]
  },
  {
   "cell_type": "markdown",
   "id": "0a1a8890",
   "metadata": {},
   "source": [
    "### The shapes are incompatible because last shape output is 10 and it should be 120???\n",
    "\n",
    "Tensorflow.data\n",
    "I can batch things?? Batch train. "
   ]
  },
  {
   "cell_type": "code",
   "execution_count": null,
   "id": "62b8eab2",
   "metadata": {},
   "outputs": [],
   "source": [
    "model.summary()\n",
    "# hidden1 = model.layers[1]\n",
    "# weights,biases = hidden1.get_weights()\n",
    "# weights  # weights randomly initialized"
   ]
  },
  {
   "cell_type": "markdown",
   "id": "47a5a064",
   "metadata": {},
   "source": [
    "### Compile model\n"
   ]
  },
  {
   "cell_type": "code",
   "execution_count": null,
   "id": "b8dcce92",
   "metadata": {},
   "outputs": [],
   "source": [
    "model.compile(loss=keras.losses.MeanSquaredError(),\n",
    "             optimizer='sgd',\n",
    "             metrics=['accuracy'])"
   ]
  },
  {
   "cell_type": "markdown",
   "id": "a1833aea",
   "metadata": {},
   "source": [
    "### Training and Evaluating the model"
   ]
  },
  {
   "cell_type": "code",
   "execution_count": null,
   "id": "2a9bfdca",
   "metadata": {},
   "outputs": [],
   "source": [
    "history = model.fit(pipeline.xtrain[0:2], pipeline.ytrain[0:2], epochs=30, validation_data=(pipeline.xval[0:2], pipeline.yval[0:2]))"
   ]
  },
  {
   "cell_type": "code",
   "execution_count": null,
   "id": "305ecb01",
   "metadata": {},
   "outputs": [],
   "source": [
    "pipeline.xtrain[0]"
   ]
  },
  {
   "cell_type": "code",
   "execution_count": null,
   "id": "04494cda",
   "metadata": {},
   "outputs": [],
   "source": []
  },
  {
   "cell_type": "code",
   "execution_count": null,
   "id": "d564ff60",
   "metadata": {},
   "outputs": [],
   "source": []
  },
  {
   "cell_type": "code",
   "execution_count": null,
   "id": "4c8d0f83",
   "metadata": {},
   "outputs": [],
   "source": []
  },
  {
   "cell_type": "code",
   "execution_count": null,
   "id": "4f2ec5c1",
   "metadata": {},
   "outputs": [],
   "source": []
  },
  {
   "cell_type": "code",
   "execution_count": null,
   "id": "51cddf25",
   "metadata": {},
   "outputs": [],
   "source": []
  },
  {
   "cell_type": "code",
   "execution_count": null,
   "id": "98af1868",
   "metadata": {},
   "outputs": [],
   "source": []
  }
 ],
 "metadata": {
  "kernelspec": {
   "display_name": "Python 3 (ipykernel)",
   "language": "python",
   "name": "python3"
  },
  "language_info": {
   "codemirror_mode": {
    "name": "ipython",
    "version": 3
   },
   "file_extension": ".py",
   "mimetype": "text/x-python",
   "name": "python",
   "nbconvert_exporter": "python",
   "pygments_lexer": "ipython3",
   "version": "3.7.13"
  }
 },
 "nbformat": 4,
 "nbformat_minor": 5
}
