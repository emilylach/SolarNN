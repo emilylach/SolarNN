{
 "cells": [
  {
   "cell_type": "code",
   "execution_count": 1,
   "id": "cd19525e",
   "metadata": {},
   "outputs": [],
   "source": [
    "import numpy as np\n",
    "import pandas as pd\n",
    "import tensorflow as tf\n",
    "from tensorflow import keras\n",
    "from Settings import data, experiments"
   ]
  },
  {
   "cell_type": "code",
   "execution_count": 2,
   "id": "3c103b6d",
   "metadata": {},
   "outputs": [
    {
     "data": {
      "text/plain": [
       "'2.8.0'"
      ]
     },
     "execution_count": 2,
     "metadata": {},
     "output_type": "execute_result"
    }
   ],
   "source": [
    "tf.__version__\n",
    "keras.__version__"
   ]
  },
  {
   "cell_type": "code",
   "execution_count": 3,
   "id": "ed6ed939",
   "metadata": {},
   "outputs": [],
   "source": [
    "current_exp = experiments['all']\n",
    "\n",
    "model = keras.models.Sequential()\n",
    "# There are 17 columns and there needs to be at least two hours of data input which means input shape of [180, 17]\n",
    "model.add(keras.layers.Flatten(input_shape=[180,17]))  \n",
    "model.add(keras.layers.Dense(300, activation=current_exp['activation']))\n",
    "model.add(keras.layers.Dense(100, activation=current_exp['activation']))\n",
    "model.add(keras.layers.Dense(10, activation=current_exp['activation']))"
   ]
  },
  {
   "cell_type": "code",
   "execution_count": null,
   "id": "9446a500",
   "metadata": {},
   "outputs": [],
   "source": [
    "model."
   ]
  }
 ],
 "metadata": {
  "kernelspec": {
   "display_name": "Python 3 (ipykernel)",
   "language": "python",
   "name": "python3"
  },
  "language_info": {
   "codemirror_mode": {
    "name": "ipython",
    "version": 3
   },
   "file_extension": ".py",
   "mimetype": "text/x-python",
   "name": "python",
   "nbconvert_exporter": "python",
   "pygments_lexer": "ipython3",
   "version": "3.7.13"
  }
 },
 "nbformat": 4,
 "nbformat_minor": 5
}
