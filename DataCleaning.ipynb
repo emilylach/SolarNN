{
 "cells": [
  {
   "cell_type": "markdown",
   "id": "b219de5c",
   "metadata": {},
   "source": [
    "# Prediction of Solar power\n",
    "\n",
    "Data provided open source at:\n",
    "https://www.kaggle.com/datasets/dilipkola/shell-ai-solar-irradiance-prediction-hackathon?group=bookmarked\n",
    "\n",
    "Goals of analysis:\n",
    "* Predict Global Irradiance for next 2 hours at 10 minute intervals given at least 2 hours of weather data\n",
    "\n",
    "Data:\n",
    "* Data is given every minute meaning at least 120 observations (2hours) must be used to output 12 data points (10 minute increments)\n",
    "* I am going to start by predicting Solar IR in 30 minutes"
   ]
  },
  {
   "cell_type": "markdown",
   "id": "20c8f1e4",
   "metadata": {
    "heading_collapsed": true
   },
   "source": [
    "### Housekeeping"
   ]
  },
  {
   "cell_type": "code",
   "execution_count": 36,
   "id": "32a5cbd2",
   "metadata": {
    "hidden": true
   },
   "outputs": [],
   "source": [
    "import pandas as pd\n",
    "import matplotlib.pyplot as plt\n",
    "import numpy as np\n",
    "import seaborn as sns\n",
    "import datetime as dt\n",
    "import os"
   ]
  },
  {
   "cell_type": "code",
   "execution_count": 3,
   "id": "6ee4ba25",
   "metadata": {
    "hidden": true
   },
   "outputs": [
    {
     "data": {
      "text/plain": [
       "'C:\\\\Users\\\\emlach\\\\Documents\\\\Courses\\\\Y3S2\\\\ML\\\\SolarNN'"
      ]
     },
     "execution_count": 3,
     "metadata": {},
     "output_type": "execute_result"
    }
   ],
   "source": [
    "os.getcwd()"
   ]
  },
  {
   "cell_type": "code",
   "execution_count": 4,
   "id": "28ae9263",
   "metadata": {
    "hidden": true
   },
   "outputs": [],
   "source": [
    "train = pd.read_csv('./archive/train.csv')\n",
    "test = pd.read_csv('./archive/test.csv')"
   ]
  },
  {
   "cell_type": "markdown",
   "id": "57ca2e91",
   "metadata": {},
   "source": [
    "### Data Exploration"
   ]
  },
  {
   "cell_type": "code",
   "execution_count": 39,
   "id": "a852e4da",
   "metadata": {
    "scrolled": true
   },
   "outputs": [
    {
     "data": {
      "text/plain": [
       "Index(['DATE (YYYY/MM/DD)', 'MST', 'Global CMP22 (vent/cor) [W/m^2]',\n",
       "       'Direct sNIP [W/m^2]', 'Azimuth Angle [degrees]',\n",
       "       'Tower Dry Bulb Temp [deg C]', 'Tower Wet Bulb Temp [deg C]',\n",
       "       'Tower Dew Point Temp [deg C]', 'Tower RH [%]', 'Total Cloud Cover [%]',\n",
       "       'Peak Wind Speed @ 6ft [m/s]', 'Avg Wind Direction @ 6ft [deg from N]',\n",
       "       'Station Pressure [mBar]', 'Precipitation (Accumulated) [mm]',\n",
       "       'Snow Depth [cm]', 'Moisture', 'Albedo (CMP11)'],\n",
       "      dtype='object')"
      ]
     },
     "execution_count": 39,
     "metadata": {},
     "output_type": "execute_result"
    }
   ],
   "source": [
    "floatcols = train.select_dtypes(include=[float,int]).columns\n",
    "train.columns"
   ]
  },
  {
   "cell_type": "markdown",
   "id": "180c6c7e",
   "metadata": {},
   "source": [
    "Dictionary for important column names:\n",
    "* Wet bulb is measure of heat stress in direct sunlight -- mixture of temp, humidity, wind speed, sun angle, and cloud cover\n",
    "    * (Would be interesting to look at the change in dWB/dt)"
   ]
  },
  {
   "cell_type": "code",
   "execution_count": 90,
   "id": "85c30fb8",
   "metadata": {},
   "outputs": [],
   "source": [
    "data= {\n",
    "        'date':'DATE (YYYY/MM/DD)',\n",
    "        'time':'MST',\n",
    "        'label':'Global CMP22 (vent/cor) [W/m^2]',\n",
    "        'WB':'Tower Wet Bulb Temp [deg C]'\n",
    "    }"
   ]
  },
  {
   "cell_type": "markdown",
   "id": "f3f3bd64",
   "metadata": {},
   "source": [
    "Adding in a datetime column"
   ]
  },
  {
   "cell_type": "code",
   "execution_count": null,
   "id": "0065cbe2",
   "metadata": {},
   "outputs": [],
   "source": [
    "combinedt = lambda datetime: dt.datetime.strptime(datetime[0]+' '+datetime[1], '%Y/%m/%d %H:%M')\n",
    "\n",
    "train['datetime'] = train[[data['date'],data['time']]].apply(combinedt, axis=1)"
   ]
  },
  {
   "cell_type": "markdown",
   "id": "4ecb094f",
   "metadata": {},
   "source": [
    "There is no sun at night, these values are included in the df with many negative values:\n",
    "Around 50% of the label data is during the night (makes sense)"
   ]
  },
  {
   "cell_type": "code",
   "execution_count": 85,
   "id": "cdda11f7",
   "metadata": {},
   "outputs": [],
   "source": [
    "def negative(a):\n",
    "    if a < 0:\n",
    "        return 0\n",
    "    else:\n",
    "        return a\n",
    "\n",
    "train[data['label']] = train[data['label']].map(negative)"
   ]
  },
  {
   "cell_type": "code",
   "execution_count": 121,
   "id": "25b90383",
   "metadata": {},
   "outputs": [
    {
     "data": {
      "text/plain": [
       "<AxesSubplot:>"
      ]
     },
     "execution_count": 121,
     "metadata": {},
     "output_type": "execute_result"
    },
    {
     "data": {
      "image/png": "[encoded data removed]",
      "text/plain": [
       "<Figure size 432x288 with 1 Axes>"
      ]
     },
     "metadata": {
      "needs_background": "light"
     },
     "output_type": "display_data"
    }
   ],
   "source": [
    "def derivative(df, keycol, timecol):\n",
    "    derv = df[keycol].diff()/train[timecol].diff().dt.seconds\n",
    "    return derv\n",
    "\n",
    "# derivative of \n",
    "derivative(train,data['WB'],'datetime').plot()\n",
    "train[data['label']].reset_index(drop=True).plot()\n",
    "\n",
    "    "
   ]
  },
  {
   "cell_type": "code",
   "execution_count": null,
   "id": "2ade512d",
   "metadata": {},
   "outputs": [],
   "source": []
  },
  {
   "cell_type": "code",
   "execution_count": null,
   "id": "8c280e63",
   "metadata": {},
   "outputs": [],
   "source": []
  },
  {
   "cell_type": "code",
   "execution_count": 89,
   "id": "8c7b0585",
   "metadata": {},
   "outputs": [
    {
     "data": {
      "text/plain": [
       "Global CMP22 (vent/cor) [W/m^2]           84239.312133\n",
       "Direct sNIP [W/m^2]                      135279.332824\n",
       "Azimuth Angle [degrees]                   10155.004211\n",
       "Tower Dry Bulb Temp [deg C]                 114.555567\n",
       "Tower Wet Bulb Temp [deg C]                  48.523178\n",
       "Tower Dew Point Temp [deg C]                 53.873623\n",
       "Tower RH [%]                                585.462848\n",
       "Total Cloud Cover [%]                    187299.135060\n",
       "Peak Wind Speed @ 6ft [m/s]                   4.332387\n",
       "Avg Wind Direction @ 6ft [deg from N]     13623.550895\n",
       "Station Pressure [mBar]                      26.162137\n",
       "Precipitation (Accumulated) [mm]              3.501332\n",
       "Snow Depth [cm]                           39706.048881\n",
       "Moisture                                      0.058735\n",
       "Albedo (CMP11)                                0.034628\n",
       "dtype: float64"
      ]
     },
     "execution_count": 89,
     "metadata": {},
     "output_type": "execute_result"
    }
   ],
   "source": [
    "train[floatcols].var()"
   ]
  },
  {
   "cell_type": "code",
   "execution_count": 33,
   "id": "27f10d02",
   "metadata": {},
   "outputs": [
    {
     "data": {
      "text/plain": [
       "<AxesSubplot:>"
      ]
     },
     "execution_count": 33,
     "metadata": {},
     "output_type": "execute_result"
    },
    {
     "data": {
      "image/png": "[encoded data removed]",
      "text/plain": [
       "<Figure size 432x288 with 2 Axes>"
      ]
     },
     "metadata": {
      "needs_background": "light"
     },
     "output_type": "display_data"
    }
   ],
   "source": [
    "sns.heatmap(train[floatcols].corr())"
   ]
  },
  {
   "cell_type": "code",
   "execution_count": null,
   "id": "201b6440",
   "metadata": {},
   "outputs": [],
   "source": []
  },
  {
   "cell_type": "code",
   "execution_count": null,
   "id": "1b884956",
   "metadata": {},
   "outputs": [],
   "source": []
  },
  {
   "cell_type": "code",
   "execution_count": null,
   "id": "060079a6",
   "metadata": {},
   "outputs": [],
   "source": []
  },
  {
   "cell_type": "code",
   "execution_count": null,
   "id": "6b3e4c5a",
   "metadata": {},
   "outputs": [],
   "source": []
  },
  {
   "cell_type": "code",
   "execution_count": null,
   "id": "5b7c272b",
   "metadata": {},
   "outputs": [],
   "source": []
  },
  {
   "cell_type": "code",
   "execution_count": null,
   "id": "d2a9f59d",
   "metadata": {},
   "outputs": [],
   "source": []
  },
  {
   "cell_type": "code",
   "execution_count": null,
   "id": "ae16b920",
   "metadata": {},
   "outputs": [],
   "source": []
  },
  {
   "cell_type": "code",
   "execution_count": null,
   "id": "115a616e",
   "metadata": {},
   "outputs": [],
   "source": []
  },
  {
   "cell_type": "code",
   "execution_count": null,
   "id": "c3d6258f",
   "metadata": {},
   "outputs": [],
   "source": []
  },
  {
   "cell_type": "code",
   "execution_count": null,
   "id": "84f5af29",
   "metadata": {},
   "outputs": [],
   "source": []
  },
  {
   "cell_type": "code",
   "execution_count": null,
   "id": "acc2e49a",
   "metadata": {},
   "outputs": [],
   "source": []
  },
  {
   "cell_type": "markdown",
   "id": "9d178895",
   "metadata": {},
   "source": [
    "# Pipeline"
   ]
  },
  {
   "cell_type": "code",
   "execution_count": null,
   "id": "1bb17eaa",
   "metadata": {},
   "outputs": [],
   "source": [
    "def neg(a):\n",
    "    \"\"\" replaces negative values with zero \"\"\"\n",
    "    if a < 0:\n",
    "        return 0\n",
    "    else:\n",
    "        return a\n",
    "\n",
    "\n",
    "class Pipeline:\n",
    "    \"\"\" pipeline to clean solar radiation data \"\"\"\n",
    "    def __init__(self, data, settings):\n",
    "        self.data = data\n",
    "        self.settings = settings\n",
    "    \n",
    "    def clean_data(self):\n",
    "        # creating a datetime column\n",
    "        combinedt = lambda datetime: dt.datetime.strptime(datetime[0]+' '+datetime[1], '%Y/%m/%d %H:%M')\n",
    "        self.data['datetime'] = self.data[[self.settings['date'],self.settings['time']]].apply(combinedt, axis=1)\n",
    "\n",
    "        # replace all negative sol ir with 0\n",
    "        self.data[self.settings['label'] = self.data[self.settings['label']].map(neg)\n",
    "                  \n",
    "    def derivative(self, column)\n",
    "        colname = 'd{col}'.format(col=self.settings[column])\n",
    "        self.data[colname] = df[self.settings[column]].diff()/train['datetime'].diff().dt.seconds\n"
   ]
  },
  {
   "cell_type": "code",
   "execution_count": 122,
   "id": "42279195",
   "metadata": {},
   "outputs": [
    {
     "data": {
      "text/plain": [
       "'dhello'"
      ]
     },
     "execution_count": 122,
     "metadata": {},
     "output_type": "execute_result"
    }
   ],
   "source": []
  },
  {
   "cell_type": "code",
   "execution_count": null,
   "id": "b1cee68b",
   "metadata": {},
   "outputs": [],
   "source": []
  },
  {
   "cell_type": "code",
   "execution_count": null,
   "id": "e69be67d",
   "metadata": {},
   "outputs": [],
   "source": []
  },
  {
   "cell_type": "code",
   "execution_count": null,
   "id": "76ff579b",
   "metadata": {},
   "outputs": [],
   "source": []
  }
 ],
 "metadata": {
  "kernelspec": {
   "display_name": "Python 3 (ipykernel)",
   "language": "python",
   "name": "python3"
  },
  "language_info": {
   "codemirror_mode": {
    "name": "ipython",
    "version": 3
   },
   "file_extension": ".py",
   "mimetype": "text/x-python",
   "name": "python",
   "nbconvert_exporter": "python",
   "pygments_lexer": "ipython3",
   "version": "3.7.13"
  }
 },
 "nbformat": 4,
 "nbformat_minor": 5
}
