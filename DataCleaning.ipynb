{
 "cells": [
  {
   "cell_type": "markdown",
   "id": "46cd3ea5",
   "metadata": {},
   "source": [
    "# Prediction of Solar power\n",
    "\n",
    "Data provided open source at:\n",
    "https://www.kaggle.com/datasets/dilipkola/shell-ai-solar-irradiance-prediction-hackathon?group=bookmarked\n",
    "\n",
    "##### Goals of analysis:\n",
    "* Predict Global Irradiance for next 2 hours at 10 minute intervals given at least 2 hours of weather data\n",
    "\n",
    "##### Data:\n",
    "* Data is given every minute meaning at least 120 observations (2hours) must be used to output 12 data points (10 minute increments)"
   ]
  },
  {
   "cell_type": "markdown",
   "id": "7b94e5ab",
   "metadata": {
    "heading_collapsed": true
   },
   "source": [
    "### Housekeeping"
   ]
  },
  {
   "cell_type": "code",
   "execution_count": 1,
   "id": "acfde022",
   "metadata": {
    "hidden": true
   },
   "outputs": [],
   "source": [
    "import pandas as pd\n",
    "import matplotlib.pyplot as plt\n",
    "import numpy as np\n",
    "import seaborn as sns\n",
    "import datetime as dt\n",
    "import os\n",
    "import sys\n",
    "from Settings import data, experiments\n",
    "import Pipeline"
   ]
  },
  {
   "cell_type": "code",
   "execution_count": 2,
   "id": "9b8e3fb5",
   "metadata": {
    "hidden": true
   },
   "outputs": [
    {
     "data": {
      "text/plain": [
       "['C:\\\\Users\\\\emlach\\\\Documents\\\\Courses\\\\Y3S2\\\\ML\\\\SolarNN',\n",
       " 'C:\\\\Users\\\\emlach\\\\Anaconda3\\\\envs\\\\SolarNN\\\\python37.zip',\n",
       " 'C:\\\\Users\\\\emlach\\\\Anaconda3\\\\envs\\\\SolarNN\\\\DLLs',\n",
       " 'C:\\\\Users\\\\emlach\\\\Anaconda3\\\\envs\\\\SolarNN\\\\lib',\n",
       " 'C:\\\\Users\\\\emlach\\\\Anaconda3\\\\envs\\\\SolarNN',\n",
       " '',\n",
       " 'C:\\\\Users\\\\emlach\\\\AppData\\\\Roaming\\\\Python\\\\Python37\\\\site-packages',\n",
       " 'C:\\\\Users\\\\emlach\\\\Anaconda3\\\\envs\\\\SolarNN\\\\lib\\\\site-packages',\n",
       " 'C:\\\\Users\\\\emlach\\\\Anaconda3\\\\envs\\\\SolarNN\\\\lib\\\\site-packages\\\\win32',\n",
       " 'C:\\\\Users\\\\emlach\\\\Anaconda3\\\\envs\\\\SolarNN\\\\lib\\\\site-packages\\\\win32\\\\lib',\n",
       " 'C:\\\\Users\\\\emlach\\\\Anaconda3\\\\envs\\\\SolarNN\\\\lib\\\\site-packages\\\\Pythonwin',\n",
       " 'C:\\\\Users\\\\emlach\\\\Anaconda3\\\\envs\\\\SolarNN\\\\lib\\\\site-packages\\\\IPython\\\\extensions',\n",
       " 'C:\\\\Users\\\\emlach\\\\.ipython']"
      ]
     },
     "execution_count": 2,
     "metadata": {},
     "output_type": "execute_result"
    }
   ],
   "source": [
    "os.getcwd()\n",
    "sys.path"
   ]
  },
  {
   "cell_type": "code",
   "execution_count": 3,
   "id": "a355c00e",
   "metadata": {
    "hidden": true
   },
   "outputs": [],
   "source": [
    "train = pd.read_csv('./archive/train.csv')\n",
    "test = pd.read_csv('./archive/test.csv')"
   ]
  },
  {
   "cell_type": "markdown",
   "id": "6f48f670",
   "metadata": {},
   "source": [
    "### Data Exploration\n",
    "##### Thoughts while data cleaning\n",
    "* Wet bulb is measure of heat stress in direct sunlight -- mixture of temp, humidity, wind speed, sun angle, and cloud cover\n",
    "    * (Would be interesting to look at the change in dWB/dt)\n",
    "* Would be interesting to take out yearly cycle, not sure if I have enough data. "
   ]
  },
  {
   "cell_type": "code",
   "execution_count": 4,
   "id": "ab9eec8d",
   "metadata": {},
   "outputs": [],
   "source": [
    "pipeline = Pipeline.DataClean(train, data, experiments['all'])\n",
    "pipeline.clean_data()\n",
    "pipeline.norm()\n",
    "pipeline.split_label()"
   ]
  },
  {
   "cell_type": "code",
   "execution_count": 5,
   "id": "5eca6e04",
   "metadata": {},
   "outputs": [],
   "source": [
    "# sns.heatmap(train.corr())"
   ]
  },
  {
   "cell_type": "code",
   "execution_count": 8,
   "id": "6f680dd4",
   "metadata": {},
   "outputs": [
    {
     "data": {
      "text/plain": [
       "(17,)"
      ]
     },
     "execution_count": 8,
     "metadata": {},
     "output_type": "execute_result"
    }
   ],
   "source": [
    "pipeline.data.columns.shape"
   ]
  },
  {
   "cell_type": "code",
   "execution_count": null,
   "id": "92232275",
   "metadata": {},
   "outputs": [],
   "source": []
  },
  {
   "cell_type": "code",
   "execution_count": null,
   "id": "c2a61c3f",
   "metadata": {},
   "outputs": [],
   "source": []
  },
  {
   "cell_type": "code",
   "execution_count": null,
   "id": "0a576504",
   "metadata": {},
   "outputs": [],
   "source": []
  },
  {
   "cell_type": "code",
   "execution_count": null,
   "id": "4da793cc",
   "metadata": {},
   "outputs": [],
   "source": []
  },
  {
   "cell_type": "code",
   "execution_count": null,
   "id": "f664fa3a",
   "metadata": {},
   "outputs": [],
   "source": []
  },
  {
   "cell_type": "code",
   "execution_count": null,
   "id": "342e2ca2",
   "metadata": {},
   "outputs": [],
   "source": []
  },
  {
   "cell_type": "code",
   "execution_count": null,
   "id": "52f0dce9",
   "metadata": {},
   "outputs": [],
   "source": []
  },
  {
   "cell_type": "code",
   "execution_count": null,
   "id": "37dea5f3",
   "metadata": {
    "scrolled": true
   },
   "outputs": [],
   "source": []
  },
  {
   "cell_type": "code",
   "execution_count": null,
   "id": "30f64607",
   "metadata": {},
   "outputs": [],
   "source": []
  }
 ],
 "metadata": {
  "kernelspec": {
   "display_name": "Python 3 (ipykernel)",
   "language": "python",
   "name": "python3"
  },
  "language_info": {
   "codemirror_mode": {
    "name": "ipython",
    "version": 3
   },
   "file_extension": ".py",
   "mimetype": "text/x-python",
   "name": "python",
   "nbconvert_exporter": "python",
   "pygments_lexer": "ipython3",
   "version": "3.7.13"
  }
 },
 "nbformat": 4,
 "nbformat_minor": 5
}
