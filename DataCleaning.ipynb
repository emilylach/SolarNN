{
 "cells": [
  {
   "cell_type": "markdown",
   "id": "bfbbe613",
   "metadata": {},
   "source": [
    "# Prediction of Solar power\n",
    "\n",
    "Data provided open source at:\n",
    "https://www.kaggle.com/datasets/dilipkola/shell-ai-solar-irradiance-prediction-hackathon?group=bookmarked\n",
    "\n",
    "##### Goals of analysis:\n",
    "* Predict Global Irradiance for next 2 hours at 10 minute intervals given at least 2 hours of weather data\n",
    "\n",
    "##### Data:\n",
    "* Data is given every minute meaning at least 120 observations (2hours) must be used to output 12 data points (10 minute increments)"
   ]
  },
  {
   "cell_type": "markdown",
   "id": "681bd57c",
   "metadata": {},
   "source": [
    "### Housekeeping"
   ]
  },
  {
   "cell_type": "code",
   "execution_count": 1,
   "id": "e397d8d2",
   "metadata": {},
   "outputs": [],
   "source": [
    "import pandas as pd\n",
    "import matplotlib.pyplot as plt\n",
    "import numpy as np\n",
    "import seaborn as sns\n",
    "import datetime as dt\n",
    "import os\n",
    "import sys\n",
    "from Settings import columns, experiments\n",
    "import Pipeline\n",
    "# from sklearn.model_selection import train_test_split\n",
    "import random\n",
    "import tensorflow as tf"
   ]
  },
  {
   "cell_type": "code",
   "execution_count": 2,
   "id": "28556b65",
   "metadata": {},
   "outputs": [
    {
     "data": {
      "text/plain": [
       "True"
      ]
     },
     "execution_count": 2,
     "metadata": {},
     "output_type": "execute_result"
    }
   ],
   "source": [
    "os.getcwd() in sys.path\n"
   ]
  },
  {
   "cell_type": "code",
   "execution_count": 3,
   "id": "c5622def",
   "metadata": {},
   "outputs": [],
   "source": [
    "train = pd.read_csv('./archive/train.csv')\n",
    "test = pd.read_csv('./archive/test.csv')"
   ]
  },
  {
   "cell_type": "markdown",
   "id": "ab8e7bea",
   "metadata": {},
   "source": [
    "### Data Exploration\n",
    "##### Thoughts while data cleaning\n",
    "* Wet bulb is measure of heat stress in direct sunlight -- mixture of temp, humidity, wind speed, sun angle, and cloud cover\n",
    "    * (Would be interesting to look at the change in dWB/dt)\n",
    "* Would be interesting to take out yearly cycle, not sure if I have enough data. "
   ]
  },
  {
   "cell_type": "code",
   "execution_count": 4,
   "id": "d39ab14d",
   "metadata": {
    "scrolled": true
   },
   "outputs": [],
   "source": [
    "pipeline = Pipeline.DataClean(columns, experiments['all'])\n",
    "pipeline.clean_data()\n",
    "pipeline.norm()\n",
    "pipeline.split_label()\n",
    "# pipeline.train_val()"
   ]
  },
  {
   "cell_type": "code",
   "execution_count": 8,
   "id": "62399608",
   "metadata": {},
   "outputs": [
    {
     "data": {
      "text/html": [
       "<div>\n",
       "<style scoped>\n",
       "    .dataframe tbody tr th:only-of-type {\n",
       "        vertical-align: middle;\n",
       "    }\n",
       "\n",
       "    .dataframe tbody tr th {\n",
       "        vertical-align: top;\n",
       "    }\n",
       "\n",
       "    .dataframe thead th {\n",
       "        text-align: right;\n",
       "    }\n",
       "</style>\n",
       "<table border=\"1\" class=\"dataframe\">\n",
       "  <thead>\n",
       "    <tr style=\"text-align: right;\">\n",
       "      <th></th>\n",
       "      <th>Global CMP22 (vent/cor) [W/m^2]</th>\n",
       "      <th>Tower Wet Bulb Temp [deg C]</th>\n",
       "      <th>Direct sNIP [W/m^2]</th>\n",
       "      <th>Azimuth Angle [degrees]</th>\n",
       "      <th>Tower Dew Point Temp [deg C]</th>\n",
       "      <th>Tower RH [%]</th>\n",
       "      <th>Total Cloud Cover [%]</th>\n",
       "      <th>Peak Wind Speed @ 6ft [m/s]</th>\n",
       "      <th>Avg Wind Direction @ 6ft [deg from N]</th>\n",
       "      <th>Station Pressure [mBar]</th>\n",
       "      <th>Precipitation (Accumulated) [mm]</th>\n",
       "      <th>Snow Depth [cm]</th>\n",
       "      <th>Moisture</th>\n",
       "      <th>Albedo (CMP11)</th>\n",
       "    </tr>\n",
       "  </thead>\n",
       "  <tbody>\n",
       "    <tr>\n",
       "      <th>25943</th>\n",
       "      <td>0.000000</td>\n",
       "      <td>0.000000</td>\n",
       "      <td>0.000375</td>\n",
       "      <td>0.181309</td>\n",
       "      <td>0.000000</td>\n",
       "      <td>0.419648</td>\n",
       "      <td>0.00</td>\n",
       "      <td>0.080579</td>\n",
       "      <td>0.800833</td>\n",
       "      <td>0.554190</td>\n",
       "      <td>0.000000</td>\n",
       "      <td>0.006542</td>\n",
       "      <td>0.0</td>\n",
       "      <td>0.00000</td>\n",
       "    </tr>\n",
       "    <tr>\n",
       "      <th>88496</th>\n",
       "      <td>0.546643</td>\n",
       "      <td>0.068140</td>\n",
       "      <td>0.947409</td>\n",
       "      <td>0.540655</td>\n",
       "      <td>0.000000</td>\n",
       "      <td>0.286370</td>\n",
       "      <td>0.13</td>\n",
       "      <td>0.049587</td>\n",
       "      <td>0.371944</td>\n",
       "      <td>0.204487</td>\n",
       "      <td>0.108123</td>\n",
       "      <td>0.032149</td>\n",
       "      <td>0.0</td>\n",
       "      <td>0.09220</td>\n",
       "    </tr>\n",
       "    <tr>\n",
       "      <th>220023</th>\n",
       "      <td>0.000000</td>\n",
       "      <td>0.685414</td>\n",
       "      <td>0.000000</td>\n",
       "      <td>0.883766</td>\n",
       "      <td>0.373636</td>\n",
       "      <td>0.303264</td>\n",
       "      <td>0.00</td>\n",
       "      <td>0.121901</td>\n",
       "      <td>0.790278</td>\n",
       "      <td>0.446640</td>\n",
       "      <td>0.000000</td>\n",
       "      <td>0.033943</td>\n",
       "      <td>0.0</td>\n",
       "      <td>0.00000</td>\n",
       "    </tr>\n",
       "    <tr>\n",
       "      <th>430742</th>\n",
       "      <td>0.000000</td>\n",
       "      <td>0.000000</td>\n",
       "      <td>0.000000</td>\n",
       "      <td>0.258891</td>\n",
       "      <td>0.000000</td>\n",
       "      <td>0.857128</td>\n",
       "      <td>0.00</td>\n",
       "      <td>0.090909</td>\n",
       "      <td>0.052111</td>\n",
       "      <td>0.475766</td>\n",
       "      <td>0.000000</td>\n",
       "      <td>0.414351</td>\n",
       "      <td>0.0</td>\n",
       "      <td>0.00000</td>\n",
       "    </tr>\n",
       "    <tr>\n",
       "      <th>23159</th>\n",
       "      <td>0.000000</td>\n",
       "      <td>0.000000</td>\n",
       "      <td>0.000000</td>\n",
       "      <td>0.239548</td>\n",
       "      <td>0.000000</td>\n",
       "      <td>0.489728</td>\n",
       "      <td>0.00</td>\n",
       "      <td>0.059917</td>\n",
       "      <td>0.040389</td>\n",
       "      <td>0.255123</td>\n",
       "      <td>0.000000</td>\n",
       "      <td>0.003869</td>\n",
       "      <td>0.0</td>\n",
       "      <td>0.00000</td>\n",
       "    </tr>\n",
       "    <tr>\n",
       "      <th>...</th>\n",
       "      <td>...</td>\n",
       "      <td>...</td>\n",
       "      <td>...</td>\n",
       "      <td>...</td>\n",
       "      <td>...</td>\n",
       "      <td>...</td>\n",
       "      <td>...</td>\n",
       "      <td>...</td>\n",
       "      <td>...</td>\n",
       "      <td>...</td>\n",
       "      <td>...</td>\n",
       "      <td>...</td>\n",
       "      <td>...</td>\n",
       "      <td>...</td>\n",
       "    </tr>\n",
       "    <tr>\n",
       "      <th>205513</th>\n",
       "      <td>0.000793</td>\n",
       "      <td>0.396477</td>\n",
       "      <td>0.000000</td>\n",
       "      <td>0.826922</td>\n",
       "      <td>0.000000</td>\n",
       "      <td>0.088539</td>\n",
       "      <td>0.00</td>\n",
       "      <td>0.000000</td>\n",
       "      <td>0.000000</td>\n",
       "      <td>0.251089</td>\n",
       "      <td>0.000000</td>\n",
       "      <td>0.024974</td>\n",
       "      <td>0.0</td>\n",
       "      <td>0.00000</td>\n",
       "    </tr>\n",
       "    <tr>\n",
       "      <th>380786</th>\n",
       "      <td>0.636056</td>\n",
       "      <td>0.677740</td>\n",
       "      <td>0.755484</td>\n",
       "      <td>0.535183</td>\n",
       "      <td>0.078023</td>\n",
       "      <td>0.137971</td>\n",
       "      <td>0.67</td>\n",
       "      <td>0.163223</td>\n",
       "      <td>0.270833</td>\n",
       "      <td>0.482816</td>\n",
       "      <td>0.000000</td>\n",
       "      <td>0.014351</td>\n",
       "      <td>0.0</td>\n",
       "      <td>0.09675</td>\n",
       "    </tr>\n",
       "    <tr>\n",
       "      <th>499577</th>\n",
       "      <td>0.000000</td>\n",
       "      <td>0.000000</td>\n",
       "      <td>0.000203</td>\n",
       "      <td>0.048154</td>\n",
       "      <td>0.000000</td>\n",
       "      <td>0.935343</td>\n",
       "      <td>0.00</td>\n",
       "      <td>0.163223</td>\n",
       "      <td>0.085278</td>\n",
       "      <td>0.429541</td>\n",
       "      <td>0.000000</td>\n",
       "      <td>0.127365</td>\n",
       "      <td>1.0</td>\n",
       "      <td>0.00000</td>\n",
       "    </tr>\n",
       "    <tr>\n",
       "      <th>135534</th>\n",
       "      <td>0.000000</td>\n",
       "      <td>0.000000</td>\n",
       "      <td>0.000139</td>\n",
       "      <td>0.205867</td>\n",
       "      <td>0.000000</td>\n",
       "      <td>0.690583</td>\n",
       "      <td>0.00</td>\n",
       "      <td>0.059917</td>\n",
       "      <td>0.836944</td>\n",
       "      <td>0.339316</td>\n",
       "      <td>0.000000</td>\n",
       "      <td>0.031551</td>\n",
       "      <td>0.0</td>\n",
       "      <td>0.00000</td>\n",
       "    </tr>\n",
       "    <tr>\n",
       "      <th>145816</th>\n",
       "      <td>0.383491</td>\n",
       "      <td>0.212196</td>\n",
       "      <td>0.879849</td>\n",
       "      <td>0.294115</td>\n",
       "      <td>0.000000</td>\n",
       "      <td>0.114298</td>\n",
       "      <td>0.14</td>\n",
       "      <td>0.194215</td>\n",
       "      <td>0.709167</td>\n",
       "      <td>0.245867</td>\n",
       "      <td>0.000000</td>\n",
       "      <td>0.024059</td>\n",
       "      <td>0.0</td>\n",
       "      <td>0.10270</td>\n",
       "    </tr>\n",
       "  </tbody>\n",
       "</table>\n",
       "<p>120 rows × 14 columns</p>\n",
       "</div>"
      ],
      "text/plain": [
       "        Global CMP22 (vent/cor) [W/m^2]  Tower Wet Bulb Temp [deg C]  \\\n",
       "25943                          0.000000                     0.000000   \n",
       "88496                          0.546643                     0.068140   \n",
       "220023                         0.000000                     0.685414   \n",
       "430742                         0.000000                     0.000000   \n",
       "23159                          0.000000                     0.000000   \n",
       "...                                 ...                          ...   \n",
       "205513                         0.000793                     0.396477   \n",
       "380786                         0.636056                     0.677740   \n",
       "499577                         0.000000                     0.000000   \n",
       "135534                         0.000000                     0.000000   \n",
       "145816                         0.383491                     0.212196   \n",
       "\n",
       "        Direct sNIP [W/m^2]  Azimuth Angle [degrees]  \\\n",
       "25943              0.000375                 0.181309   \n",
       "88496              0.947409                 0.540655   \n",
       "220023             0.000000                 0.883766   \n",
       "430742             0.000000                 0.258891   \n",
       "23159              0.000000                 0.239548   \n",
       "...                     ...                      ...   \n",
       "205513             0.000000                 0.826922   \n",
       "380786             0.755484                 0.535183   \n",
       "499577             0.000203                 0.048154   \n",
       "135534             0.000139                 0.205867   \n",
       "145816             0.879849                 0.294115   \n",
       "\n",
       "        Tower Dew Point Temp [deg C]  Tower RH [%]  Total Cloud Cover [%]  \\\n",
       "25943                       0.000000      0.419648                   0.00   \n",
       "88496                       0.000000      0.286370                   0.13   \n",
       "220023                      0.373636      0.303264                   0.00   \n",
       "430742                      0.000000      0.857128                   0.00   \n",
       "23159                       0.000000      0.489728                   0.00   \n",
       "...                              ...           ...                    ...   \n",
       "205513                      0.000000      0.088539                   0.00   \n",
       "380786                      0.078023      0.137971                   0.67   \n",
       "499577                      0.000000      0.935343                   0.00   \n",
       "135534                      0.000000      0.690583                   0.00   \n",
       "145816                      0.000000      0.114298                   0.14   \n",
       "\n",
       "        Peak Wind Speed @ 6ft [m/s]  Avg Wind Direction @ 6ft [deg from N]  \\\n",
       "25943                      0.080579                               0.800833   \n",
       "88496                      0.049587                               0.371944   \n",
       "220023                     0.121901                               0.790278   \n",
       "430742                     0.090909                               0.052111   \n",
       "23159                      0.059917                               0.040389   \n",
       "...                             ...                                    ...   \n",
       "205513                     0.000000                               0.000000   \n",
       "380786                     0.163223                               0.270833   \n",
       "499577                     0.163223                               0.085278   \n",
       "135534                     0.059917                               0.836944   \n",
       "145816                     0.194215                               0.709167   \n",
       "\n",
       "        Station Pressure [mBar]  Precipitation (Accumulated) [mm]  \\\n",
       "25943                  0.554190                          0.000000   \n",
       "88496                  0.204487                          0.108123   \n",
       "220023                 0.446640                          0.000000   \n",
       "430742                 0.475766                          0.000000   \n",
       "23159                  0.255123                          0.000000   \n",
       "...                         ...                               ...   \n",
       "205513                 0.251089                          0.000000   \n",
       "380786                 0.482816                          0.000000   \n",
       "499577                 0.429541                          0.000000   \n",
       "135534                 0.339316                          0.000000   \n",
       "145816                 0.245867                          0.000000   \n",
       "\n",
       "        Snow Depth [cm]  Moisture  Albedo (CMP11)  \n",
       "25943          0.006542       0.0         0.00000  \n",
       "88496          0.032149       0.0         0.09220  \n",
       "220023         0.033943       0.0         0.00000  \n",
       "430742         0.414351       0.0         0.00000  \n",
       "23159          0.003869       0.0         0.00000  \n",
       "...                 ...       ...             ...  \n",
       "205513         0.024974       0.0         0.00000  \n",
       "380786         0.014351       0.0         0.09675  \n",
       "499577         0.127365       1.0         0.00000  \n",
       "135534         0.031551       0.0         0.00000  \n",
       "145816         0.024059       0.0         0.10270  \n",
       "\n",
       "[120 rows x 14 columns]"
      ]
     },
     "execution_count": 8,
     "metadata": {},
     "output_type": "execute_result"
    }
   ],
   "source": [
    "pipeline.data.sample(n=120, replace=False, random_state=26)"
   ]
  },
  {
   "cell_type": "code",
   "execution_count": null,
   "id": "11073038",
   "metadata": {},
   "outputs": [],
   "source": [
    "# sns.heatmap(train.corr())"
   ]
  },
  {
   "cell_type": "code",
   "execution_count": null,
   "id": "38c60493",
   "metadata": {},
   "outputs": [],
   "source": [
    "pipeline.data.columns.shape"
   ]
  },
  {
   "cell_type": "code",
   "execution_count": null,
   "id": "0c4aa65b",
   "metadata": {},
   "outputs": [],
   "source": [
    "pipeline.data"
   ]
  },
  {
   "cell_type": "code",
   "execution_count": null,
   "id": "5e28d35f",
   "metadata": {},
   "outputs": [],
   "source": [
    "np.shape(train_test_split(pipeline.data, test_size=0.3, train_size=0.7))"
   ]
  },
  {
   "cell_type": "code",
   "execution_count": null,
   "id": "16f51513",
   "metadata": {},
   "outputs": [],
   "source": [
    "train_test_split([1,2,3,3,4,5,6,7,5,6,4], test_size=0.3, train_size=0.7)"
   ]
  },
  {
   "cell_type": "markdown",
   "id": "651b4e33",
   "metadata": {},
   "source": [
    "I need to split train/val by grabbing chunks of 120 samples in a row"
   ]
  },
  {
   "cell_type": "code",
   "execution_count": null,
   "id": "d98a9c6a",
   "metadata": {},
   "outputs": [],
   "source": [
    "len(pipeline.data)"
   ]
  },
  {
   "cell_type": "code",
   "execution_count": null,
   "id": "298b406d",
   "metadata": {},
   "outputs": [],
   "source": [
    "startidx = []\n",
    "samples = []\n",
    "numsamples = 120\n",
    "for i in range(60):\n",
    "    startidx.append(random.choice(pipeline.data.index[:-numsamples]))\n",
    "    samples.append(pipeline.data[startidx[i]:startidx[i]+numsamples])"
   ]
  },
  {
   "cell_type": "code",
   "execution_count": null,
   "id": "b6f551f1",
   "metadata": {},
   "outputs": [],
   "source": [
    "np.asarray(samples).shape"
   ]
  },
  {
   "cell_type": "code",
   "execution_count": null,
   "id": "133510a6",
   "metadata": {},
   "outputs": [],
   "source": [
    "60*0.7"
   ]
  },
  {
   "cell_type": "code",
   "execution_count": null,
   "id": "46fadafe",
   "metadata": {},
   "outputs": [],
   "source": [
    "np.shape(samples[:42])"
   ]
  },
  {
   "cell_type": "code",
   "execution_count": null,
   "id": "0b99c8e9",
   "metadata": {},
   "outputs": [],
   "source": [
    "np.shape(samples[42:])"
   ]
  },
  {
   "cell_type": "code",
   "execution_count": null,
   "id": "32ab26cd",
   "metadata": {},
   "outputs": [],
   "source": [
    "42+18"
   ]
  },
  {
   "cell_type": "code",
   "execution_count": null,
   "id": "63623960",
   "metadata": {},
   "outputs": [],
   "source": []
  },
  {
   "cell_type": "code",
   "execution_count": null,
   "id": "70589ac9",
   "metadata": {},
   "outputs": [],
   "source": []
  },
  {
   "cell_type": "code",
   "execution_count": null,
   "id": "7d9c960d",
   "metadata": {},
   "outputs": [],
   "source": []
  },
  {
   "cell_type": "code",
   "execution_count": null,
   "id": "e08b21b7",
   "metadata": {},
   "outputs": [],
   "source": []
  },
  {
   "cell_type": "code",
   "execution_count": null,
   "id": "3dc803a3",
   "metadata": {},
   "outputs": [],
   "source": []
  },
  {
   "cell_type": "code",
   "execution_count": null,
   "id": "e82d56ff",
   "metadata": {},
   "outputs": [],
   "source": []
  },
  {
   "cell_type": "code",
   "execution_count": null,
   "id": "010aa436",
   "metadata": {},
   "outputs": [],
   "source": []
  },
  {
   "cell_type": "code",
   "execution_count": null,
   "id": "f56f09a9",
   "metadata": {},
   "outputs": [],
   "source": []
  },
  {
   "cell_type": "code",
   "execution_count": null,
   "id": "e62c3e22",
   "metadata": {},
   "outputs": [],
   "source": []
  },
  {
   "cell_type": "code",
   "execution_count": null,
   "id": "34adc1e6",
   "metadata": {},
   "outputs": [],
   "source": []
  },
  {
   "cell_type": "code",
   "execution_count": null,
   "id": "b4abd786",
   "metadata": {},
   "outputs": [],
   "source": []
  },
  {
   "cell_type": "code",
   "execution_count": null,
   "id": "5f57af3d",
   "metadata": {
    "scrolled": true
   },
   "outputs": [],
   "source": []
  },
  {
   "cell_type": "code",
   "execution_count": null,
   "id": "7d12f854",
   "metadata": {},
   "outputs": [],
   "source": []
  }
 ],
 "metadata": {
  "kernelspec": {
   "display_name": "Python 3 (ipykernel)",
   "language": "python",
   "name": "python3"
  },
  "language_info": {
   "codemirror_mode": {
    "name": "ipython",
    "version": 3
   },
   "file_extension": ".py",
   "mimetype": "text/x-python",
   "name": "python",
   "nbconvert_exporter": "python",
   "pygments_lexer": "ipython3",
   "version": "3.7.13"
  }
 },
 "nbformat": 4,
 "nbformat_minor": 5
}
