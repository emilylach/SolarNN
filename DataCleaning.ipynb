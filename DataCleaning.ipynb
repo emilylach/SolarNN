{
 "cells": [
  {
   "cell_type": "markdown",
   "id": "7b4bbc0b",
   "metadata": {},
   "source": [
    "# Prediction of Solar power\n",
    "\n",
    "Data provided open source at:\n",
    "https://www.kaggle.com/datasets/dilipkola/shell-ai-solar-irradiance-prediction-hackathon?group=bookmarked\n",
    "\n",
    "##### Goals of analysis:\n",
    "* Predict Global Irradiance for next 2 hours at 10 minute intervals given at least 2 hours of weather data\n",
    "\n",
    "##### Data:\n",
    "* Data is given every minute meaning at least 120 observations (2hours) must be used to output 12 data points (10 minute increments)"
   ]
  },
  {
   "cell_type": "markdown",
   "id": "97354867",
   "metadata": {},
   "source": [
    "### Housekeeping"
   ]
  },
  {
   "cell_type": "code",
   "execution_count": 1,
   "id": "97158748",
   "metadata": {},
   "outputs": [],
   "source": [
    "import pandas as pd\n",
    "import matplotlib.pyplot as plt\n",
    "import numpy as np\n",
    "import seaborn as sns\n",
    "import datetime as dt\n",
    "import os\n",
    "import sys\n",
    "from Settings import columns, experiments\n",
    "import Pipeline\n",
    "# from sklearn.model_selection import train_test_split\n",
    "import random\n",
    "import tensorflow as tf\n",
    "import timeit"
   ]
  },
  {
   "cell_type": "code",
   "execution_count": 2,
   "id": "3bca6e13",
   "metadata": {},
   "outputs": [
    {
     "data": {
      "text/plain": [
       "True"
      ]
     },
     "execution_count": 2,
     "metadata": {},
     "output_type": "execute_result"
    }
   ],
   "source": [
    "os.getcwd() in sys.path"
   ]
  },
  {
   "cell_type": "code",
   "execution_count": 3,
   "id": "cc3fc686",
   "metadata": {},
   "outputs": [],
   "source": [
    "train = pd.read_csv('./archive/train.csv')\n",
    "test = pd.read_csv('./archive/test.csv')"
   ]
  },
  {
   "cell_type": "markdown",
   "id": "f355a9b2",
   "metadata": {},
   "source": [
    "### Data Exploration\n",
    "##### Thoughts while data cleaning\n",
    "* Wet bulb is measure of heat stress in direct sunlight -- mixture of temp, humidity, wind speed, sun angle, and cloud cover\n",
    "    * (Would be interesting to look at the change in dWB/dt)\n",
    "* Would be interesting to take out yearly cycle, not sure if I have enough data. "
   ]
  },
  {
   "cell_type": "code",
   "execution_count": 4,
   "id": "12e9a834",
   "metadata": {
    "scrolled": true
   },
   "outputs": [
    {
     "name": "stdout",
     "output_type": "stream",
     "text": [
      "i made it to train val\n",
      "imade it to else statement\n"
     ]
    }
   ],
   "source": [
    "pipeline = Pipeline.DataClean(columns, experiments['all'])\n",
    "pipeline.clean_data()\n",
    "pipeline.norm()\n",
    "pipeline.split_label()\n",
    "pipeline.train_val()"
   ]
  },
  {
   "cell_type": "code",
   "execution_count": 5,
   "id": "74af5305",
   "metadata": {
    "scrolled": true
   },
   "outputs": [
    {
     "data": {
      "text/plain": [
       "<AxesSubplot:>"
      ]
     },
     "execution_count": 5,
     "metadata": {},
     "output_type": "execute_result"
    },
    {
     "data": {
      "image/png": "[encoded data removed]",
      "text/plain": [
       "<Figure size 432x288 with 1 Axes>"
      ]
     },
     "metadata": {
      "needs_background": "light"
     },
     "output_type": "display_data"
    }
   ],
   "source": [
    "pipeline.label[0:5000].plot()"
   ]
  },
  {
   "cell_type": "markdown",
   "id": "1a03309b",
   "metadata": {},
   "source": [
    "I need the label to be the mean values every 10 minutes over 2 hours of data, that means I need to get 120 values, chop it into 12 increments, and take the mean of the 10 values"
   ]
  },
  {
   "cell_type": "markdown",
   "id": "f6a93892",
   "metadata": {},
   "source": [
    "Right now I am splitting my train and validation dataset through a random sampler. I will just grab data in 120 chunks and move on to try to get the model working."
   ]
  },
  {
   "cell_type": "code",
   "execution_count": null,
   "id": "86392e55",
   "metadata": {},
   "outputs": [],
   "source": [
    "\n",
    "\n",
    "model = tf.keras.Sequential([\n",
    "    tf.keras.layers.Flatten(),\n",
    "    tf.keras.layers.Dense(10)\n",
    "])\n",
    "\n",
    "model.compile(optimizer='adam',\n",
    "             loss=tf.keras.losses.MeanSquaredError(),\n",
    "             metrics=['accuracy'])\n",
    "\n",
    "together = tf.data.Dataset.from_tensor_slices([data,label])\n",
    "together = together.batch(10).repeat()\n",
    "inputs = Input(shape=(14,))\n",
    "type(together)\n",
    "\n",
    "# for count_batch in together.repeat().batch(1).take(1):\n",
    "#   print(count_batch)\n",
    "\n",
    "\n",
    "model.fit(together.mae_one_shot_iterator(), epochs=2)"
   ]
  },
  {
   "cell_type": "markdown",
   "id": "04e07803",
   "metadata": {},
   "source": [
    "#### For tomorrow:\n",
    "* try yeild function in notebook to determine how long it runs to see if it is more efficient"
   ]
  },
  {
   "cell_type": "code",
   "execution_count": null,
   "id": "1b8c59f0",
   "metadata": {},
   "outputs": [],
   "source": [
    "pipeline.data.sample(n=120, replace=False, random_state=26)"
   ]
  },
  {
   "cell_type": "code",
   "execution_count": null,
   "id": "2f8da3ff",
   "metadata": {},
   "outputs": [],
   "source": [
    "# sns.heatmap(train.corr())"
   ]
  },
  {
   "cell_type": "code",
   "execution_count": null,
   "id": "7d70f59f",
   "metadata": {},
   "outputs": [],
   "source": [
    "pipeline.data.columns.shape"
   ]
  },
  {
   "cell_type": "code",
   "execution_count": null,
   "id": "22eec0dc",
   "metadata": {},
   "outputs": [],
   "source": [
    "pipeline.data"
   ]
  },
  {
   "cell_type": "code",
   "execution_count": null,
   "id": "67d108d1",
   "metadata": {},
   "outputs": [],
   "source": [
    "np.shape(train_test_split(pipeline.data, test_size=0.3, train_size=0.7))"
   ]
  },
  {
   "cell_type": "code",
   "execution_count": null,
   "id": "23d13da1",
   "metadata": {},
   "outputs": [],
   "source": [
    "train_test_split([1,2,3,3,4,5,6,7,5,6,4], test_size=0.3, train_size=0.7)"
   ]
  },
  {
   "cell_type": "markdown",
   "id": "52cd5e5a",
   "metadata": {},
   "source": [
    "I need to split train/val by grabbing chunks of 120 samples in a row"
   ]
  },
  {
   "cell_type": "code",
   "execution_count": null,
   "id": "3f34ebaa",
   "metadata": {},
   "outputs": [],
   "source": [
    "len(pipeline.data)"
   ]
  },
  {
   "cell_type": "code",
   "execution_count": null,
   "id": "071afd2f",
   "metadata": {},
   "outputs": [],
   "source": [
    "startidx = []\n",
    "samples = []\n",
    "numsamples = 120\n",
    "for i in range(60):\n",
    "    startidx.append(random.choice(pipeline.data.index[:-numsamples]))\n",
    "    samples.append(pipeline.data[startidx[i]:startidx[i]+numsamples])"
   ]
  },
  {
   "cell_type": "code",
   "execution_count": null,
   "id": "8cc906c7",
   "metadata": {},
   "outputs": [],
   "source": [
    "np.asarray(samples).shape"
   ]
  },
  {
   "cell_type": "code",
   "execution_count": null,
   "id": "19535c36",
   "metadata": {},
   "outputs": [],
   "source": [
    "60*0.7"
   ]
  },
  {
   "cell_type": "code",
   "execution_count": null,
   "id": "79b12f3f",
   "metadata": {},
   "outputs": [],
   "source": [
    "np.shape(samples[:42])"
   ]
  },
  {
   "cell_type": "code",
   "execution_count": null,
   "id": "66769346",
   "metadata": {},
   "outputs": [],
   "source": [
    "np.shape(samples[42:])"
   ]
  },
  {
   "cell_type": "code",
   "execution_count": null,
   "id": "34abf897",
   "metadata": {},
   "outputs": [],
   "source": [
    "42+18"
   ]
  },
  {
   "cell_type": "code",
   "execution_count": null,
   "id": "95d0e4a6",
   "metadata": {},
   "outputs": [],
   "source": []
  },
  {
   "cell_type": "code",
   "execution_count": null,
   "id": "7e073b62",
   "metadata": {},
   "outputs": [],
   "source": []
  },
  {
   "cell_type": "code",
   "execution_count": null,
   "id": "5918dabe",
   "metadata": {},
   "outputs": [],
   "source": []
  },
  {
   "cell_type": "code",
   "execution_count": null,
   "id": "5309ee4f",
   "metadata": {},
   "outputs": [],
   "source": []
  },
  {
   "cell_type": "code",
   "execution_count": null,
   "id": "8b9e5a69",
   "metadata": {},
   "outputs": [],
   "source": []
  },
  {
   "cell_type": "code",
   "execution_count": null,
   "id": "6bba0b66",
   "metadata": {},
   "outputs": [],
   "source": []
  },
  {
   "cell_type": "code",
   "execution_count": null,
   "id": "527f111a",
   "metadata": {},
   "outputs": [],
   "source": []
  },
  {
   "cell_type": "code",
   "execution_count": null,
   "id": "ef857215",
   "metadata": {},
   "outputs": [],
   "source": []
  },
  {
   "cell_type": "code",
   "execution_count": null,
   "id": "9d38a8cb",
   "metadata": {},
   "outputs": [],
   "source": []
  },
  {
   "cell_type": "code",
   "execution_count": null,
   "id": "3148f413",
   "metadata": {},
   "outputs": [],
   "source": []
  },
  {
   "cell_type": "code",
   "execution_count": null,
   "id": "2d715d7c",
   "metadata": {},
   "outputs": [],
   "source": []
  },
  {
   "cell_type": "code",
   "execution_count": null,
   "id": "90eed945",
   "metadata": {
    "scrolled": true
   },
   "outputs": [],
   "source": []
  },
  {
   "cell_type": "code",
   "execution_count": null,
   "id": "510af580",
   "metadata": {},
   "outputs": [],
   "source": []
  }
 ],
 "metadata": {
  "kernelspec": {
   "display_name": "Python 3 (ipykernel)",
   "language": "python",
   "name": "python3"
  },
  "language_info": {
   "codemirror_mode": {
    "name": "ipython",
    "version": 3
   },
   "file_extension": ".py",
   "mimetype": "text/x-python",
   "name": "python",
   "nbconvert_exporter": "python",
   "pygments_lexer": "ipython3",
   "version": "3.7.13"
  }
 },
 "nbformat": 4,
 "nbformat_minor": 5
}
